{
 "cells": [
  {
   "cell_type": "markdown",
   "metadata": {},
   "source": [
    "# Importing libraries"
   ]
  },
  {
   "cell_type": "code",
   "execution_count": 28,
   "metadata": {},
   "outputs": [],
   "source": [
    "import torch\n",
    "from torch import Tensor\n",
    "from torch import nn\n",
    "from torch.nn import functional as F\n",
    "import dlc_practical_prologue as prologue"
   ]
  },
  {
   "cell_type": "code",
   "execution_count": 29,
   "metadata": {},
   "outputs": [],
   "source": [
    "import matplotlib.pyplot as plt"
   ]
  },
  {
   "cell_type": "markdown",
   "metadata": {},
   "source": [
    "# Loading data and standerdize Data"
   ]
  },
  {
   "cell_type": "code",
   "execution_count": 30,
   "metadata": {},
   "outputs": [],
   "source": [
    "def data_loading_standerdize(n_samples):\n",
    "    #Data loading\n",
    "    train_input, train_target, train_classes, test_input, test_target, test_classes = prologue.generate_pair_sets(1000)\n",
    "    #Standarization of the training set\n",
    "    mu,std = train_input.mean(), train_input.std()\n",
    "    train_input.sub_(mu).div_(std)\n",
    "    #Standarization of the testing set\n",
    "    mu,std = test_input.mean(), test_input.std()\n",
    "    test_input.sub_(mu).div_(std)\n",
    "    return train_input, train_target, train_classes, test_input, test_target, test_classes"
   ]
  },
  {
   "cell_type": "code",
   "execution_count": 31,
   "metadata": {},
   "outputs": [],
   "source": [
    "train_input, train_target, train_classes, test_input, test_target, test_classes = data_loading_standerdize(1000)"
   ]
  },
  {
   "cell_type": "code",
   "execution_count": 32,
   "metadata": {},
   "outputs": [
    {
     "data": {
      "text/plain": [
       "torch.Size([1000, 1, 14, 14])"
      ]
     },
     "execution_count": 32,
     "metadata": {},
     "output_type": "execute_result"
    }
   ],
   "source": [
    "train_input[:,0,:].view(-1,1,14,14).shape"
   ]
  },
  {
   "cell_type": "code",
   "execution_count": 46,
   "metadata": {},
   "outputs": [],
   "source": [
    "class LeNet(nn.Module):\n",
    "    def __init__(self, weight_sharing = False):\n",
    "        super(LeNet, self).__init__()\n",
    "        \n",
    "        #Image1_input\n",
    "        self.conv1_0 = nn.Conv2d(1, 6, kernel_size=3)   # (14 => 12) + maxpool => 6\n",
    "        self.conv2_0 = nn.Conv2d(6, 16, kernel_size=3)  # (6 => 4) + maxpool => 2\n",
    "        self.conv3_0 = nn.Conv2d(16, 120, kernel_size=2) # (2 => 1)\n",
    "        self.fc1_0 = nn.Linear(120, 84)\n",
    "        self.fc2_0 = nn.Linear(84, 10)\n",
    "        \n",
    "        # Image2_input\n",
    "        \n",
    "        self.conv1_1 = nn.Conv2d(1, 6, kernel_size=3) \n",
    "        self.conv2_1 = nn.Conv2d(6, 16, kernel_size=3)\n",
    "        self.conv3_1 = nn.Conv2d(16, 120, kernel_size=2) \n",
    "        self.fc1_1 = nn.Linear(120, 84)\n",
    "        self.fc2_1 = nn.Linear(84, 10)\n",
    "        \n",
    "        # Comparison\n",
    "        self.fc3 = nn.Linear(20, 2)\n",
    "        self.weight_sharing = weight_sharing \n",
    "        \n",
    "    def forward(self, x ):\n",
    "        \n",
    "        input_1 = x[:,0,:].view(-1,1,14,14) # Selecting first image\n",
    "        input_2 = x[:,1,:].view(-1,1,14,14) # Selectind second image\n",
    "        \n",
    "        \n",
    "        input_1 = F.tanh(self.conv1_0(input_1)) # 1st Convolution Layer\n",
    "        input_1 = F.tanh(F.avg_pool2d(input_1, kernel_size=2, stride=2)) # 1st Averaging with max pool\n",
    "        input_1 = F.tanh(self.conv2_0(input_1)) # 2nd Convolution Layer\n",
    "        input_1 = F.tanh(F.avg_pool2d(input_1, kernel_size=2, stride=2)) # 2nd Averaging with max pool\n",
    "        input_1 = F.tanh(self.conv3_0(input_1)) # 3nd Convolution Layer\n",
    "        \n",
    "        input_1 = F.tanh(self.fc1_0(input_1.view(-1,120)))\n",
    "        input_1 = self.fc2_0(input_1)\n",
    "        \n",
    "        \n",
    "        if self.weight_sharing :\n",
    "            \n",
    "            input_2 = F.tanh(self.conv1_0(input_2)) # 1st Convolution Layer\n",
    "            input_2 = F.tanh(F.avg_pool2d(input_2, kernel_size=2, stride=2)) # 1st Averaging with max pool\n",
    "            input_2 = F.tanh(self.conv2_0(input_2)) # 2nd Convolution Layer\n",
    "            input_2 = F.tanh(F.avg_pool2d(input_2, kernel_size=2, stride=2)) # 2nd Averaging with max pool\n",
    "            input_2 = F.tanh(self.conv3_0(input_2)) # 3nd Convolution Layer\n",
    "\n",
    "            input_2 = F.tanh(self.fc1_0(input_2.view(-1,120)))\n",
    "            input_2 = self.fc2_0(input_2)\n",
    "            \n",
    "        else:\n",
    "            \n",
    "            input_2 = F.tanh(self.conv1_1(input_2)) # 1st Convolution Layer\n",
    "            input_2 = F.tanh(F.avg_pool2d(input_2, kernel_size=2, stride=2)) # 1st Averaging with max pool\n",
    "            input_2 = F.tanh(self.conv2_1(input_2)) # 2nd Convolution Layer\n",
    "            input_2 = F.tanh(F.avg_pool2d(input_2, kernel_size=2, stride=2)) # 2nd Averaging with max pool\n",
    "            input_2 = F.tanh(self.conv3_1(input_2)) # 3nd Convolution Layer\n",
    "\n",
    "            input_2 = F.tanh(self.fc1_1(input_2.view(-1,120)))\n",
    "            input_2 = self.fc2_1(input_2)\n",
    "        \n",
    "        \n",
    "        #Comparison layer\n",
    "        concat = torch.cat((input_1,input_2),1)\n",
    "        x = self.fc3(concat)\n",
    "        \n",
    "        return input_1,input_2,x"
   ]
  },
  {
   "cell_type": "code",
   "execution_count": 51,
   "metadata": {},
   "outputs": [],
   "source": [
    "def train_LeNet_model(train_input,train_target,train_classes, test_input,test_target,test_classes,\n",
    "                      batch_size = 100, n_epochs = 25, lr = 0.1, weight_sharing = False, auxilary_loss = False,\n",
    "                      verbose = False):\n",
    "    \n",
    "    model = LeNet(weight_sharing)\n",
    "    criterion = nn.CrossEntropyLoss()\n",
    "    optimizer = torch.optim.SGD(model.parameters(),lr = lr)\n",
    "    error = []\n",
    "    train_error = []\n",
    "    test_error = []\n",
    "    \n",
    "    for e in range(0,n_epochs):\n",
    "        \n",
    "        train_data = zip(train_input.split(batch_size),\n",
    "                         train_target.split(batch_size),\n",
    "                         train_classes.split(batch_size))\n",
    "        \n",
    "        test_data = zip(test_input.split(batch_size),\n",
    "                        test_target.split(batch_size),\n",
    "                        test_classes.split(batch_size))\n",
    "        \n",
    "        for inputs, targets, classes in train_data:\n",
    "            output = model(inputs)\n",
    "            loss_1 = criterion(output[0],classes[:,0])\n",
    "            loss_2 = criterion(output[1],classes[:,1])\n",
    "            main_loss = criterion(output[2],targets)\n",
    "            \n",
    "            # Select loss \n",
    "            if auxilary_loss:\n",
    "                loss = main_loss + 0.8*loss_1 + 0.8*loss_2\n",
    "            else:\n",
    "                loss = main_loss\n",
    "                \n",
    "            optimizer.zero_grad()\n",
    "            loss.backward()\n",
    "            optimizer.step()\n",
    "            \n",
    "        error.append(loss.item())\n",
    "        \n",
    "        train_data = zip(train_input.split(batch_size),\n",
    "                         train_target.split(batch_size),\n",
    "                         train_classes.split(batch_size))   \n",
    "        \n",
    "        train_error.append(compute_errors(model,train_data,train_input.size(0)))\n",
    "        test_error.append(compute_errors(model,test_data,test_input.size(0)))\n",
    "        \n",
    "        if(e%5 ==0) and verbose:\n",
    "            print('epoch : ',e,' loss : ',loss.item())\n",
    "        \n",
    "               \n",
    "    return model, error, train_error, test_error"
   ]
  },
  {
   "cell_type": "code",
   "execution_count": 52,
   "metadata": {},
   "outputs": [],
   "source": [
    "def compute_errors(model,data,n_samples):\n",
    "    nb_errors = 0\n",
    "    for input_,targets, _ in data:\n",
    "        output = model(input_)\n",
    "        _,predicted_classes = torch.max(output[2],1)\n",
    "        for i in range(0,output[2].size(0)):\n",
    "            if(predicted_classes[i]!=targets[i]):\n",
    "                nb_errors = nb_errors+1\n",
    "    return (nb_errors/n_samples) * 100"
   ]
  },
  {
   "cell_type": "code",
   "execution_count": 54,
   "metadata": {},
   "outputs": [
    {
     "name": "stdout",
     "output_type": "stream",
     "text": [
      "Weight Sharing = 'False', Auxilary Loss = 'False'\n",
      "epoch :  0  loss :  0.6866626143455505\n",
      "epoch :  5  loss :  0.6806073784828186\n",
      "epoch :  10  loss :  0.6759340763092041\n",
      "epoch :  15  loss :  0.6673336625099182\n",
      "epoch :  20  loss :  0.6456749439239502\n",
      "epoch :  25  loss :  0.5916059613227844\n",
      "epoch :  30  loss :  0.5376757979393005\n",
      "epoch :  35  loss :  0.5089303851127625\n",
      "epoch :  40  loss :  0.48762208223342896\n",
      "epoch :  45  loss :  0.470724880695343\n",
      "epoch :  50  loss :  0.4586281180381775\n",
      "epoch :  55  loss :  0.4469121992588043\n",
      "epoch :  60  loss :  0.43512412905693054\n",
      "epoch :  65  loss :  0.42308878898620605\n",
      "epoch :  70  loss :  0.4108472466468811\n",
      "epoch :  75  loss :  0.3986119329929352\n",
      "epoch :  80  loss :  0.38663139939308167\n",
      "epoch :  85  loss :  0.375060111284256\n",
      "epoch :  90  loss :  0.36392903327941895\n",
      "epoch :  95  loss :  0.3532060980796814\n",
      "Weight Sharing = 'False', Auxilary Loss = 'True'\n",
      "epoch :  0  loss :  4.362227916717529\n",
      "epoch :  5  loss :  4.298736095428467\n",
      "epoch :  10  loss :  4.061359882354736\n",
      "epoch :  15  loss :  3.333369731903076\n",
      "epoch :  20  loss :  2.6379446983337402\n",
      "epoch :  25  loss :  2.1438097953796387\n",
      "epoch :  30  loss :  1.8104591369628906\n",
      "epoch :  35  loss :  1.5690996646881104\n",
      "epoch :  40  loss :  1.3926422595977783\n",
      "epoch :  45  loss :  1.2466347217559814\n",
      "epoch :  50  loss :  1.1130717992782593\n",
      "epoch :  55  loss :  1.0015791654586792\n",
      "epoch :  60  loss :  0.8975249528884888\n",
      "epoch :  65  loss :  0.8059989809989929\n",
      "epoch :  70  loss :  0.7203404307365417\n",
      "epoch :  75  loss :  0.6413686275482178\n",
      "epoch :  80  loss :  0.5698198080062866\n",
      "epoch :  85  loss :  0.5062613487243652\n",
      "epoch :  90  loss :  0.4478125274181366\n",
      "epoch :  95  loss :  0.5156387090682983\n",
      "Weight Sharing = 'True', Auxilary Loss = 'False'\n",
      "epoch :  0  loss :  0.6820182204246521\n",
      "epoch :  5  loss :  0.6743648648262024\n",
      "epoch :  10  loss :  0.6482483744621277\n",
      "epoch :  15  loss :  0.5477317571640015\n",
      "epoch :  20  loss :  0.4956851601600647\n",
      "epoch :  25  loss :  0.4561188519001007\n",
      "epoch :  30  loss :  0.4216536283493042\n",
      "epoch :  35  loss :  0.3875071704387665\n",
      "epoch :  40  loss :  0.3563227951526642\n",
      "epoch :  45  loss :  0.32953503727912903\n",
      "epoch :  50  loss :  0.3092799484729767\n",
      "epoch :  55  loss :  0.2950330972671509\n",
      "epoch :  60  loss :  0.2840854823589325\n",
      "epoch :  65  loss :  0.2738778591156006\n",
      "epoch :  70  loss :  0.26273295283317566\n",
      "epoch :  75  loss :  0.24967969954013824\n",
      "epoch :  80  loss :  0.23403261601924896\n",
      "epoch :  85  loss :  0.21510189771652222\n",
      "epoch :  90  loss :  0.1917569488286972\n",
      "epoch :  95  loss :  0.16787448525428772\n",
      "Weight Sharing = 'True', Auxilary Loss = 'True'\n",
      "epoch :  0  loss :  4.348659515380859\n",
      "epoch :  5  loss :  3.8761000633239746\n",
      "epoch :  10  loss :  2.5193393230438232\n",
      "epoch :  15  loss :  1.700747013092041\n",
      "epoch :  20  loss :  1.375083327293396\n",
      "epoch :  25  loss :  1.131953477859497\n",
      "epoch :  30  loss :  0.9296298623085022\n",
      "epoch :  35  loss :  0.7615004181861877\n",
      "epoch :  40  loss :  0.616541862487793\n",
      "epoch :  45  loss :  0.5054385662078857\n",
      "epoch :  50  loss :  0.4159599542617798\n",
      "epoch :  55  loss :  0.3663563132286072\n",
      "epoch :  60  loss :  0.2885226011276245\n",
      "epoch :  65  loss :  0.24852344393730164\n",
      "epoch :  70  loss :  0.2213628888130188\n",
      "epoch :  75  loss :  0.18553295731544495\n",
      "epoch :  80  loss :  0.16363544762134552\n",
      "epoch :  85  loss :  0.14880281686782837\n",
      "epoch :  90  loss :  0.1368216872215271\n",
      "epoch :  95  loss :  0.12712940573692322\n"
     ]
    },
    {
     "data": {
      "image/png": "[encoded data removed]",
      "text/plain": [
       "<Figure size 1296x864 with 4 Axes>"
      ]
     },
     "metadata": {
      "needs_background": "light"
     },
     "output_type": "display_data"
    }
   ],
   "source": [
    "weight_sharing = [False,True]\n",
    "auxiliary_loss = [False,True]\n",
    "\n",
    "fig, axes = plt.subplots(2,2, figsize=(18, 12))\n",
    "for i,weight in enumerate(weight_sharing):\n",
    "    for j,aux in enumerate(auxiliary_loss):\n",
    "        \n",
    "        print(\"Weight Sharing = '{0}', Auxilary Loss = '{1}'\".format(weight,aux))\n",
    "        \n",
    "        model,error,train_error,test_error = train_LeNet_model(train_input,train_target,train_classes,\n",
    "                                                       test_input,test_target,test_classes,\n",
    "                                                       weight_sharing = weight, \n",
    "                                                       auxilary_loss = aux,\n",
    "                                                       n_epochs = 100, verbose = True)\n",
    "        \n",
    "        axes[i,j].plot(train_error, label='Training error')\n",
    "        axes[i,j].plot(test_error, label='Testing error')\n",
    "        axes[i,j].set_xlabel(\"Epoch\")\n",
    "        axes[i,j].set_ylabel(\"Accuracy\")\n",
    "        axes[i,j].legend(loc='upper right')\n",
    "        axes[i,j].set_title(\"Weight Sharing = '{0}', Auxilary Loss = '{1}'\".format(weight,aux))"
   ]
  },
  {
   "cell_type": "code",
   "execution_count": null,
   "metadata": {},
   "outputs": [],
   "source": [
    "a = []"
   ]
  },
  {
   "cell_type": "code",
   "execution_count": null,
   "metadata": {},
   "outputs": [],
   "source": []
  }
 ],
 "metadata": {
  "kernelspec": {
   "display_name": "Python 3",
   "language": "python",
   "name": "python3"
  },
  "language_info": {
   "codemirror_mode": {
    "name": "ipython",
    "version": 3
   },
   "file_extension": ".py",
   "mimetype": "text/x-python",
   "name": "python",
   "nbconvert_exporter": "python",
   "pygments_lexer": "ipython3",
   "version": "3.7.4"
  }
 },
 "nbformat": 4,
 "nbformat_minor": 2
}
