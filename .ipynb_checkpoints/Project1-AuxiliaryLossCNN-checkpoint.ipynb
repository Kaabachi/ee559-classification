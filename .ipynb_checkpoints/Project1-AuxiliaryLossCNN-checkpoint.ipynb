{
 "cells": [
  {
   "cell_type": "markdown",
   "metadata": {},
   "source": [
    "#  <center>Project 1 - Baseline implementation - Deep convolutional neural network</center>"
   ]
  },
  {
   "cell_type": "markdown",
   "metadata": {},
   "source": [
    "The objective of this project is to test different architectures to compare two digits visible in a\n",
    "two-channel image. It aims at showing in particular the impact of weight sharing, and of the use of an\n",
    "auxiliary loss to help the training of the main objective.\n",
    "It should be implemented with PyTorch only code, in particular without using other external libraries\n",
    "such as scikit-learn or numpy.\n"
   ]
  },
  {
   "cell_type": "code",
   "execution_count": 1,
   "metadata": {},
   "outputs": [],
   "source": [
    "import torch\n",
    "from torch import Tensor\n",
    "from torch import nn\n",
    "from torch.nn import functional as F\n",
    "import dlc_practical_prologue as prologue"
   ]
  },
  {
   "cell_type": "markdown",
   "metadata": {},
   "source": [
    "# Loading the data"
   ]
  },
  {
   "cell_type": "markdown",
   "metadata": {},
   "source": [
    "We generate the data sets to using with the function generate_pair_sets(N) defined in the file\n",
    "dlc_practical_prologue.py. This function returns six tensors:\n"
   ]
  },
  {
   "cell_type": "markdown",
   "metadata": {},
   "source": [
    "| Name          | Tensor dimension | Type     | Content                                    |\n",
    "|---------------|------------------|----------|--------------------------------------------|\n",
    "| train_input   | N × 2 × 14 × 14  | float32  | Images                                     |\n",
    "| train_target  | N                | int64    | Class to predict ∈ {0, 1}                  |\n",
    "| train_classes | N × 2            | int64    | Classes of the two digits ∈ {0, . . . , 9} |\n",
    "| test_input    | N × 2 × 14 × 14  | float32  | Images                                     |\n",
    "| test_target   | N                | int64    | Class to predict ∈ {0, 1}                  |\n",
    "| test_classes  | N × 2            | int64    | Classes of the two digits ∈ {0, . . . , 9} |"
   ]
  },
  {
   "cell_type": "code",
   "execution_count": 2,
   "metadata": {},
   "outputs": [],
   "source": [
    "train_input, train_target, train_classes, test_input, test_target, test_classes = prologue.generate_pair_sets(1000)"
   ]
  },
  {
   "cell_type": "code",
   "execution_count": 3,
   "metadata": {},
   "outputs": [
    {
     "data": {
      "text/plain": [
       "torch.Size([1000, 2, 14, 14])"
      ]
     },
     "execution_count": 3,
     "metadata": {},
     "output_type": "execute_result"
    }
   ],
   "source": [
    "mu,std = train_input.mean(), train_input.std()\n",
    "train_input.sub_(mu).div_(std)\n",
    "\n",
    "mu,std = test_input.mean(), test_input.std()\n",
    "test_input.sub_(mu).div_(std);\n"
   ]
  },
  {
   "cell_type": "code",
   "execution_count": 60,
   "metadata": {},
   "outputs": [],
   "source": [
    "class Net(nn.Module):\n",
    "    def __init__(self, nb_hidden):\n",
    "        super(Net, self).__init__()\n",
    "        \n",
    "        # Input 1\n",
    "        self.conv1 = nn.Conv2d(1, 32, kernel_size=3)\n",
    "        self.conv2 = nn.Conv2d(32, 64, kernel_size=3)\n",
    "        self.fc1 = nn.Linear(256, nb_hidden)\n",
    "        self.fc2 = nn.Linear(nb_hidden, 10)\n",
    "        \n",
    "        # Input 2   \n",
    "        self.conv1_2 = nn.Conv2d(1, 32, kernel_size=3)\n",
    "        self.conv2_2 = nn.Conv2d(32, 64, kernel_size=3)\n",
    "        self.fc1_2 = nn.Linear(256, nb_hidden)\n",
    "        self.fc2_2 = nn.Linear(nb_hidden, 10)\n",
    "        \n",
    "        # Comparison\n",
    "        self.fc3 = nn.Linear(20, 2)\n",
    "        \n",
    "    def forward(self, x):\n",
    "        input_1 = x[:,1:,:]\n",
    "        input_2 = x[:,1:,:]\n",
    "        \n",
    "        input_1 = F.relu(F.max_pool2d(self.conv1(input_1), kernel_size=2, stride=2))\n",
    "        input_1 = F.relu(F.max_pool2d(self.conv2(input_1), kernel_size=2, stride=2))\n",
    "        input_1 = F.relu(self.fc1(input_1.view(-1, 256)))\n",
    "        input_1 = self.fc2(input_1)\n",
    "        \n",
    "        input_2 = F.relu(F.max_pool2d(self.conv1(input_2), kernel_size=2, stride=2))\n",
    "        input_2 = F.relu(F.max_pool2d(self.conv2(input_2), kernel_size=2, stride=2))\n",
    "        input_2 = F.relu(self.fc1(input_2.view(-1, 256)))\n",
    "        input_2 = self.fc2(input_2)\n",
    "        \n",
    "        concat=torch.cat((input_1,input_2),1)\n",
    "        x = self.fc3(concat)\n",
    "        \n",
    "        \n",
    "        return input_1,input_2,x"
   ]
  },
  {
   "cell_type": "code",
   "execution_count": 61,
   "metadata": {},
   "outputs": [
    {
     "data": {
      "text/plain": [
       "torch.Size([1000])"
      ]
     },
     "execution_count": 61,
     "metadata": {},
     "output_type": "execute_result"
    }
   ],
   "source": [
    "train_classes[:,0].size()\n",
    "\n",
    "train_target.size()"
   ]
  },
  {
   "cell_type": "code",
   "execution_count": 84,
   "metadata": {},
   "outputs": [],
   "source": [
    "batch_size = 100\n",
    "n_epochs = 25\n",
    "def train_model(model,train_input,train_target,train_classes):\n",
    "    criterion = nn.CrossEntropyLoss()\n",
    "    optimizer = torch.optim.SGD(model.parameters(),lr = 0.1)\n",
    "    for e in range(0,n_epochs):\n",
    "        for input, targets,classes in zip(train_input.split(batch_size),train_target.split(batch_size),train_classes.split(batch_size)):\n",
    "            output = model(input)\n",
    "            loss_0 = criterion(output[0],classes[:,0])\n",
    "            loss_1 = criterion(output[1],classes[:,1])\n",
    "            loss_2 = criterion(output[2],targets)\n",
    "            loss = loss_2 + 0.3*loss_1 + 0.3*loss_0\n",
    "\n",
    "            optimizer.zero_grad()\n",
    "            loss.backward()\n",
    "            optimizer.step()\n",
    "        if(e%5 ==0):\n",
    "            print('epoch : ',e,' loss : ',loss.item())"
   ]
  },
  {
   "cell_type": "code",
   "execution_count": 85,
   "metadata": {},
   "outputs": [
    {
     "name": "stdout",
     "output_type": "stream",
     "text": [
      "epoch :  0  loss :  2.059565544128418\n",
      "epoch :  5  loss :  2.03688383102417\n",
      "epoch :  10  loss :  1.9026260375976562\n",
      "epoch :  15  loss :  1.8127460479736328\n",
      "epoch :  20  loss :  1.6964998245239258\n"
     ]
    }
   ],
   "source": [
    "model = Net(100)\n",
    "train_model(model,train_input,train_target,train_classes)"
   ]
  },
  {
   "cell_type": "code",
   "execution_count": 86,
   "metadata": {},
   "outputs": [],
   "source": [
    "def compute_nb_errors(model,data_input,data_target):\n",
    "    nb_errors = 0\n",
    "    for input,targets in zip(data_input.split(batch_size),data_target.split(batch_size)):\n",
    "        output = model(input)\n",
    "        _,predicted_classes = torch.max(output[2],1)\n",
    "        for i in range(0,output[2].size(0)):\n",
    "            if(predicted_classes[i]!=targets[i]):\n",
    "                nb_errors = nb_errors+1\n",
    "                \n",
    "    return nb_errors"
   ]
  },
  {
   "cell_type": "code",
   "execution_count": 87,
   "metadata": {},
   "outputs": [
    {
     "name": "stdout",
     "output_type": "stream",
     "text": [
      "train_error 21.50% test_error 28.20%\n"
     ]
    }
   ],
   "source": [
    "print('train_error {:.02f}% test_error {:.02f}%'.format(\n",
    "    compute_nb_errors(model, train_input, train_target) / train_input.size(0) * 100,\n",
    "    compute_nb_errors(model, test_input, test_target) / test_input.size(0) * 100))\n"
   ]
  },
  {
   "cell_type": "code",
   "execution_count": null,
   "metadata": {},
   "outputs": [],
   "source": []
  }
 ],
 "metadata": {
  "kernelspec": {
   "display_name": "Python 3",
   "language": "python",
   "name": "python3"
  },
  "language_info": {
   "codemirror_mode": {
    "name": "ipython",
    "version": 3
   },
   "file_extension": ".py",
   "mimetype": "text/x-python",
   "name": "python",
   "nbconvert_exporter": "python",
   "pygments_lexer": "ipython3",
   "version": "3.7.4"
  }
 },
 "nbformat": 4,
 "nbformat_minor": 4
}
