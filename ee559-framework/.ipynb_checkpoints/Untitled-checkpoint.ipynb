{
 "cells": [
  {
   "cell_type": "code",
   "execution_count": 3,
   "metadata": {},
   "outputs": [
    {
     "name": "stdout",
     "output_type": "stream",
     "text": [
      "epoch:  0  loss:  tensor(81.0176)\n",
      "epoch:  10  loss:  tensor(49.7421)\n",
      "epoch:  20  loss:  tensor(49.2932)\n",
      "epoch:  30  loss:  tensor(48.7530)\n",
      "epoch:  40  loss:  tensor(48.1810)\n",
      "epoch:  50  loss:  tensor(47.4187)\n",
      "epoch:  60  loss:  tensor(46.3524)\n",
      "epoch:  70  loss:  tensor(44.8609)\n",
      "epoch:  80  loss:  tensor(42.7329)\n",
      "epoch:  90  loss:  tensor(39.5864)\n",
      "epoch:  100  loss:  tensor(34.5927)\n",
      "epoch:  110  loss:  tensor(27.1382)\n",
      "epoch:  120  loss:  tensor(19.5864)\n",
      "epoch:  130  loss:  tensor(15.4336)\n",
      "epoch:  140  loss:  tensor(13.2450)\n",
      "epoch:  150  loss:  tensor(11.7418)\n",
      "epoch:  160  loss:  tensor(10.8596)\n",
      "epoch:  170  loss:  tensor(10.3233)\n",
      "epoch:  180  loss:  tensor(9.9102)\n",
      "epoch:  190  loss:  tensor(9.5656)\n",
      "epoch:  200  loss:  tensor(9.2569)\n",
      "epoch:  210  loss:  tensor(8.9686)\n",
      "epoch:  220  loss:  tensor(8.7180)\n",
      "epoch:  230  loss:  tensor(8.4730)\n",
      "epoch:  240  loss:  tensor(8.2576)\n"
     ]
    }
   ],
   "source": [
    "import torch\n",
    "\n",
    "import dlc_practical_prologue as prologue\n",
    "import math\n",
    "from utils import *\n",
    "from modules import *\n",
    "\n",
    "torch.set_grad_enabled(False)\n",
    "\n",
    "# Loading the data\n",
    "train_input,train_target = generate_disc_set(1000)\n",
    "test_input,test_target = generate_disc_set(1000)\n",
    "\n",
    "train_input,train_target = generate_disc_set(1000)\n",
    "test_input,test_target = generate_disc_set(1000)\n",
    "\n",
    "# Normalizing inputs\n",
    "mu,std = train_input.mean(0), train_input.std(0)\n",
    "train_input.sub_(mu).div_(std)\n",
    "\n",
    "mu,std = test_input.mean(0), test_input.std(0)\n",
    "test_input.sub_(mu).div_(std)\n",
    "\n",
    "# convert target to one-hot encoding\n",
    "train_target = target_to_onehot(train_target)\n",
    "test_target = target_to_onehot(test_target)\n",
    "\n",
    "# Training the model\n",
    "batch_size = 100\n",
    "n_epochs = 250\n",
    "def train_model(model,train_input,train_target):\n",
    "    criterion = MSELoss()\n",
    "    optimizer = SGD(model.param(),lr = 0.01)\n",
    "    for e in range(0,n_epochs):\n",
    "        for input, targets in zip(train_input.split(batch_size),train_target.split(batch_size)):\n",
    "            output = model(input)\n",
    "            loss = criterion(output,targets)\n",
    "            optimizer.zero_grad()\n",
    "            model.backward(criterion.dloss(output,targets))\n",
    "            optimizer.step()\n",
    "        if e%10==0 :\n",
    "            print('epoch: ',e,' loss: ',loss)\n",
    "\n",
    "# defining the model\n",
    "model = Sequential((Linear(2,25),ReLU(),Linear(25,25),ReLU(),Linear(25,25),ReLU(),Linear(25,25),ReLU(),Linear(25,2)))\n",
    "train_model(model,train_input,train_target)"
   ]
  },
  {
   "cell_type": "code",
   "execution_count": 4,
   "metadata": {},
   "outputs": [
    {
     "name": "stdout",
     "output_type": "stream",
     "text": [
      "train error :  0.8999999999999999 %\n",
      "test error :  2.4 %\n"
     ]
    }
   ],
   "source": [
    "print(\"train error : \", compute_nb_errors(model,train_input,train_target)/1000 * 100 , \"%\")\n",
    "print(\"test error : \", compute_nb_errors(model,test_input,test_target)/1000 * 100,\"%\")\n"
   ]
  },
  {
   "cell_type": "code",
   "execution_count": null,
   "metadata": {},
   "outputs": [],
   "source": []
  },
  {
   "cell_type": "code",
   "execution_count": null,
   "metadata": {},
   "outputs": [],
   "source": []
  },
  {
   "cell_type": "code",
   "execution_count": null,
   "metadata": {},
   "outputs": [],
   "source": []
  }
 ],
 "metadata": {
  "kernelspec": {
   "display_name": "Python 3",
   "language": "python",
   "name": "python3"
  },
  "language_info": {
   "codemirror_mode": {
    "name": "ipython",
    "version": 3
   },
   "file_extension": ".py",
   "mimetype": "text/x-python",
   "name": "python",
   "nbconvert_exporter": "python",
   "pygments_lexer": "ipython3",
   "version": "3.7.6"
  }
 },
 "nbformat": 4,
 "nbformat_minor": 4
}
