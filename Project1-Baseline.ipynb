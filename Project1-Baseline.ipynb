{
 "cells": [
  {
   "cell_type": "markdown",
   "metadata": {},
   "source": [
    "#  <center>Project 1 - Baseline implementation</center>"
   ]
  },
  {
   "cell_type": "markdown",
   "metadata": {},
   "source": [
    "The objective of this project is to test different architectures to compare two digits visible in a\n",
    "two-channel image. It aims at showing in particular the impact of weight sharing, and of the use of an\n",
    "auxiliary loss to help the training of the main objective.\n",
    "It should be implemented with PyTorch only code, in particular without using other external libraries\n",
    "such as scikit-learn or numpy.\n"
   ]
  },
  {
   "cell_type": "code",
   "execution_count": 6,
   "metadata": {},
   "outputs": [],
   "source": [
    "import torch\n",
    "from torch import Tensor\n",
    "from torch import nn\n",
    "from torch.nn import functional as F\n",
    "import dlc_practical_prologue as prologue"
   ]
  },
  {
   "cell_type": "markdown",
   "metadata": {},
   "source": [
    "# Loading the data"
   ]
  },
  {
   "cell_type": "markdown",
   "metadata": {},
   "source": [
    "We generate the data sets to using with the function generate_pair_sets(N) defined in the file\n",
    "dlc_practical_prologue.py. This function returns six tensors:\n"
   ]
  },
  {
   "cell_type": "markdown",
   "metadata": {},
   "source": [
    "| Name          | Tensor dimension | Type     | Content                                    |\n",
    "|---------------|------------------|----------|--------------------------------------------|\n",
    "| train_input   | N × 2 × 14 × 14  | float32  | Images                                     |\n",
    "| train_target  | N                | int64    | Class to predict ∈ {0, 1}                  |\n",
    "| train_classes | N × 2            | int64    | Classes of the two digits ∈ {0, . . . , 9} |\n",
    "| test_input    | N × 2 × 14 × 14  | float32  | Images                                     |\n",
    "| test_target   | N                | int64    | Class to predict ∈ {0, 1}                  |\n",
    "| test_classes  | N × 2            | int64    | Classes of the two digits ∈ {0, . . . , 9} |"
   ]
  },
  {
   "cell_type": "code",
   "execution_count": 130,
   "metadata": {},
   "outputs": [],
   "source": [
    "train_input, train_target, train_classes, test_input, test_target, test_classes = prologue.generate_pair_sets(1000)"
   ]
  },
  {
   "cell_type": "code",
   "execution_count": null,
   "metadata": {},
   "outputs": [],
   "source": [
    "mu,std = train_input.mean(), train_input.std()\n",
    "train_input.sub_(mu).div_(std)\n",
    "\n",
    "mu,std = test_input.mean(), test_input.std()\n",
    "test_input.sub_(mu).div_(std)"
   ]
  },
  {
   "cell_type": "markdown",
   "metadata": {},
   "source": [
    "# Defining the Model"
   ]
  },
  {
   "cell_type": "code",
   "execution_count": 202,
   "metadata": {},
   "outputs": [],
   "source": [
    "class Net(nn.Module):\n",
    "    def __init__(self, nb_hidden):\n",
    "        super(Net, self).__init__()\n",
    "        self.conv1 = nn.Conv2d(2, 32, kernel_size=3)\n",
    "        self.conv2 = nn.Conv2d(32, 64, kernel_size=3)\n",
    "        self.fc1 = nn.Linear(256, nb_hidden)\n",
    "        self.fc2 = nn.Linear(nb_hidden, 2)\n",
    "\n",
    "    def forward(self, x):\n",
    "        x = F.relu(F.max_pool2d(self.conv1(x), kernel_size=2, stride=2))\n",
    "        x = F.relu(F.max_pool2d(self.conv2(x), kernel_size=2, stride=2))\n",
    "        x = F.relu(self.fc1(x.view(-1, 256)))\n",
    "        x = self.fc2(x)\n",
    "        return x\n"
   ]
  },
  {
   "cell_type": "markdown",
   "metadata": {},
   "source": [
    "# Training the model"
   ]
  },
  {
   "cell_type": "markdown",
   "metadata": {},
   "source": [
    "CNN with 2 convolutional layers and 2 fully connected layers "
   ]
  },
  {
   "cell_type": "code",
   "execution_count": 209,
   "metadata": {},
   "outputs": [],
   "source": [
    "batch_size = 100\n",
    "n_epochs = 250\n",
    "def train_model(model,train_input,train_target):\n",
    "    criterion = nn.CrossEntropyLoss()\n",
    "    optimizer = torch.optim.SGD(model.parameters(),lr = 0.1)\n",
    "    for e in range(0,n_epochs):\n",
    "        for input, targets in zip(train_input.split(batch_size),train_target.split(batch_size)):\n",
    "            output = model(input)\n",
    "            loss = criterion(output,targets)\n",
    "            optimizer.zero_grad()\n",
    "            loss.backward()\n",
    "            optimizer.step()\n",
    "        if(e%50 ==0):\n",
    "            print('epoch : ',e,' loss : ',loss.item())"
   ]
  },
  {
   "cell_type": "code",
   "execution_count": 211,
   "metadata": {},
   "outputs": [
    {
     "name": "stdout",
     "output_type": "stream",
     "text": [
      "epoch :  0  loss :  0.6855924129486084\n",
      "epoch :  50  loss :  0.0034624480176717043\n",
      "epoch :  100  loss :  0.0008349684067070484\n",
      "epoch :  150  loss :  0.0004290234064683318\n",
      "epoch :  200  loss :  0.000278322899248451\n"
     ]
    }
   ],
   "source": [
    "model = Net(100)\n",
    "train_model(model,train_input,train_target)"
   ]
  },
  {
   "cell_type": "markdown",
   "metadata": {},
   "source": [
    "# Testing"
   ]
  },
  {
   "cell_type": "code",
   "execution_count": 210,
   "metadata": {},
   "outputs": [],
   "source": [
    "def compute_nb_errors(model,data_input,data_target):\n",
    "    nb_errors = 0\n",
    "    for input,targets in zip(data_input.split(batch_size),data_target.split(batch_size)):\n",
    "        output = model(input)\n",
    "        _,predicted_classes = torch.max(output,1)\n",
    "        for i in range(0,output.size(0)):\n",
    "            if(predicted_classes[i]!=targets[i]):\n",
    "                nb_errors = nb_errors+1\n",
    "                \n",
    "    return nb_errors"
   ]
  },
  {
   "cell_type": "code",
   "execution_count": 216,
   "metadata": {},
   "outputs": [
    {
     "name": "stdout",
     "output_type": "stream",
     "text": [
      "train_error 0.00% test_error 18.70%\n"
     ]
    }
   ],
   "source": [
    "print('train_error {:.02f}% test_error {:.02f}%'.format(\n",
    "    compute_nb_errors(model, train_input, train_target) / train_input.size(0) * 100,\n",
    "    compute_nb_errors(model, test_input, test_target) / test_input.size(0) * 100))\n"
   ]
  }
 ],
 "metadata": {
  "kernelspec": {
   "display_name": "Python 3",
   "language": "python",
   "name": "python3"
  },
  "language_info": {
   "codemirror_mode": {
    "name": "ipython",
    "version": 3
   },
   "file_extension": ".py",
   "mimetype": "text/x-python",
   "name": "python",
   "nbconvert_exporter": "python",
   "pygments_lexer": "ipython3",
   "version": "3.7.6"
  }
 },
 "nbformat": 4,
 "nbformat_minor": 4
}
