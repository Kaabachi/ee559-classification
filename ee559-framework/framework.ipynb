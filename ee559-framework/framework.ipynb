{
 "cells": [
  {
   "cell_type": "code",
   "execution_count": 25,
   "metadata": {},
   "outputs": [
    {
     "data": {
      "text/plain": [
       "<torch.autograd.grad_mode.set_grad_enabled at 0x120b64207c8>"
      ]
     },
     "execution_count": 25,
     "metadata": {},
     "output_type": "execute_result"
    }
   ],
   "source": [
    "import torch\n",
    "\n",
    "import dlc_practical_prologue as prologue\n",
    "import math\n",
    "torch.set_grad_enabled(False)"
   ]
  },
  {
   "cell_type": "markdown",
   "metadata": {},
   "source": [
    "# Implementing modules"
   ]
  },
  {
   "cell_type": "code",
   "execution_count": 26,
   "metadata": {},
   "outputs": [],
   "source": [
    "\n",
    "class Module ( object ) :\n",
    "    def __call__(self, *args, **kwargs):\n",
    "        return self.forward(*args)\n",
    "    def forward ( self , * input ) :\n",
    "        raise NotImplementedError\n",
    "    def backward ( self , * gradwrtoutput ) :\n",
    "        raise NotImplementedError\n",
    "    def param ( self ) :\n",
    "        return []\n",
    "\n"
   ]
  },
  {
   "cell_type": "code",
   "execution_count": 27,
   "metadata": {},
   "outputs": [],
   "source": [
    "\n",
    "'''\n",
    "Applies a linear transformation to the incoming data: y = xA^T + b\n",
    "\n",
    "Args:\n",
    "    in_features: size of each input sample\n",
    "    out_features: size of each output sample\n",
    "    bias: If set to ``False``, the layer will not learn an additive bias.\n",
    "        Default: ``True``\n",
    "\n",
    "Attributes:\n",
    "    weight: the learnable weights of the module \n",
    "    bias:   the learnable bias of the module of shape \n",
    "\n",
    "\n",
    "'''\n",
    "class Linear(Module):\n",
    "\n",
    "    def __init__(self, in_features, out_features, bias = True):\n",
    "        self.in_features = in_features\n",
    "        self.out_features = out_features\n",
    "\n",
    "        \n",
    "        # Initialize weight and bias\n",
    "        # according to https://discuss.pytorch.org/t/how-are-layer-weights-and-biases-initialized-by-default/13073\n",
    "        \n",
    "        if bias:\n",
    "            self.bias = torch.empty(1,out_features)\n",
    "        self.weight = torch.empty(in_features,out_features)\n",
    "        stdv = 1. / math.sqrt(self.weight.size(1))\n",
    "        self.weight.data.uniform_(-stdv, stdv)\n",
    "        if self.bias is not None:\n",
    "            self.bias.data.uniform_(-stdv, stdv)\n",
    "        \n",
    "        # cache the input whenever we go forward\n",
    "        self.x = 0\n",
    "        self.grad_weight = torch.empty(in_features,out_features)\n",
    "        self.grad_bias = torch.empty(1,out_features)\n",
    "            \n",
    "        \n",
    "    #Applies a linear transformation to the incoming data: y = xA^T + b   \n",
    "    def forward(self,input):\n",
    "        self.x = input\n",
    "        output = input.mm(self.weight)\n",
    "        if self.bias is not None:\n",
    "            output += self.bias\n",
    "\n",
    "        return output\n",
    "\n",
    "\n",
    "    def backward(self,input):\n",
    "        x = self.x\n",
    "        w = self.weight\n",
    "        b = self.bias\n",
    "        \n",
    "        # divide weigthts by batch size \n",
    "        # inspiration from https://stats.stackexchange.com/questions/183840/sum-or-average-of-gradients-in-mini-batch-gradient-decent\n",
    "        db = input.sum(0).div(input.size()[0])\n",
    "        dx = input.mm(w.t())\n",
    "        dw = x.t().mm(input).div(input.size()[0])\n",
    "        \n",
    "        \n",
    "\n",
    "        self.grad_bias += db\n",
    "        self.grad_weight += dw\n",
    "\n",
    "\n",
    "        return dx\n",
    "            \n",
    "\n",
    "    def param(self):\n",
    "        return[(self.weight,self.grad_weight),(self.bias,self.grad_bias)]\n",
    "\n",
    "\n"
   ]
  },
  {
   "cell_type": "code",
   "execution_count": 28,
   "metadata": {},
   "outputs": [],
   "source": [
    "'''\n",
    "Applies the element-wise function Rectified Linear Unit\n",
    "\n",
    "Args:\n",
    "    in_features: size of each input sample\n",
    "    out_features: size of each output sample\n",
    "    bias: If set to ``False``, the layer will not learn an additive bias.\n",
    "        Default: ``True``\n",
    "\n",
    "'''\n",
    "class ReLU(Module):\n",
    "    def __init_(self):\n",
    "        self.x = 0\n",
    "    def forward( self,  input ):\n",
    "        self.x = input\n",
    "        s1 = input.clamp(min=0)\n",
    "        return s1\n",
    "    def backward(self, input):\n",
    "        return (self.x>0).float()*input\n",
    "    \n",
    "        \n",
    "        \n",
    "    "
   ]
  },
  {
   "cell_type": "code",
   "execution_count": 29,
   "metadata": {},
   "outputs": [],
   "source": [
    "'''\n",
    "Applies the element-wise function Hyperbolic Tangent\n",
    "\n",
    "'''\n",
    "\n",
    "class Tanh(Module):\n",
    "    def __init_(self):\n",
    "        self.x = 0\n",
    "        \n",
    "    def forward(self,input):\n",
    "        self.x = input\n",
    "        s1 = input.tanh()\n",
    "        return s1\n",
    "\n",
    "    def backward(self, input):\n",
    "            ds_dx = 1 - self.x.tanh().pow(2)\n",
    "            dl_dx = ds_dx * input\n",
    "            return dl_dx\n",
    "        "
   ]
  },
  {
   "cell_type": "code",
   "execution_count": 30,
   "metadata": {},
   "outputs": [],
   "source": [
    "'''\n",
    "A sequential container.\n",
    "Modules are added to it in the order they are passed in the constructor - in a list.\n",
    "\n",
    "'''\n",
    "class Sequential(Module):\n",
    "    def __init__(self, param ):\n",
    "        super().__init__()\n",
    "        self.model = (param)\n",
    "        \n",
    "    def forward(self,x):\n",
    "        for _ in self.model:\n",
    "            x = _.forward(x)\n",
    "        return x\n",
    "    def backward(self,x):\n",
    "        for _ in reversed(self.model):\n",
    "            x = _.backward(x)\n",
    "        return x\n",
    "    \n",
    "    def param(self):\n",
    "        param_list = []\n",
    "        for module in self.model:\n",
    "            param_list.extend(module.param())\n",
    "\n",
    "        return param_list"
   ]
  },
  {
   "cell_type": "code",
   "execution_count": 31,
   "metadata": {},
   "outputs": [],
   "source": [
    "'''\n",
    "Returns mean square error loss\n",
    "Creates a criterion that measures the mean squared error (squared L2 norm) between each element in the input v and target t .\n",
    "The reduction here is sum\n",
    "'''\n",
    "\n",
    "class MSELoss(Module):\n",
    "    def forward(self,v,t):\n",
    "        return (v-t).pow(2).sum(0).sum()\n",
    "    def dloss(self,v,t):\n",
    "        return (2*(v-t))\n",
    "        \n",
    "        "
   ]
  },
  {
   "cell_type": "code",
   "execution_count": 32,
   "metadata": {},
   "outputs": [],
   "source": [
    "'''\n",
    "To construct an Optimizer you have to give it an iterable containing the parameters (all should be Variable s) to optimize. Then, you can specify optimizer-specific options such as the learning rate, weight decay, etc.\n",
    "\n",
    "'''\n",
    "class SGD(object):\n",
    "\n",
    "    def __init__(self, params, lr=0.01):\n",
    "        self.lr = lr\n",
    "        self.params = params\n",
    "\n",
    "\n",
    "    def step(self):\n",
    "        for _, (param, param_grad) in enumerate(self.params):\n",
    "            # update parameter\n",
    "            param.add_(-self.lr*param_grad)\n",
    "    \n",
    "    def zero_grad(self):\n",
    "        # put all gradients to 0\n",
    "        for param in self.params:\n",
    "            param[1].zero_()"
   ]
  },
  {
   "cell_type": "markdown",
   "metadata": {},
   "source": [
    "# Loading the data"
   ]
  },
  {
   "cell_type": "code",
   "execution_count": 33,
   "metadata": {},
   "outputs": [],
   "source": [
    "'''\n",
    "Generates a training and a test set of 1, 000 points sampled uniformly in [0, 1]2 each with a\n",
    "label 0 if outside the disk centered at (0.5, 0.5) of radius 1/\n",
    "√2π, and 1 inside.\n",
    "'''\n",
    "def generate_disc_set(nb):\n",
    "    train = torch.empty(nb,2).uniform_(0,1)\n",
    "    target = (train.sub(0.5).pow(2).sum(1)<torch.empty(nb).fill_((1/(2*math.pi)))).long()\n",
    "    return train,target"
   ]
  },
  {
   "cell_type": "code",
   "execution_count": 34,
   "metadata": {},
   "outputs": [],
   "source": [
    "'''\n",
    "Converts target of shape (1000) to target of shape (1000,2)\n",
    "one-hot encoding\n",
    "'''\n",
    "def target_to_onehot(target):\n",
    "    res = torch.empty(target.size(0), 2).zero_()\n",
    "    res.scatter_(1, target.view(-1, 1), 1.0).mul(0.9)\n",
    "    return res"
   ]
  },
  {
   "cell_type": "code",
   "execution_count": 35,
   "metadata": {},
   "outputs": [],
   "source": [
    "import matplotlib.pyplot as plt\n",
    "#Plot the dataset, for the outside circle, the middle point must be forgotten\n",
    "def plot_set(train_input, train_target):\n",
    "    \n",
    "    fig, ax = plt.subplots(1, 1)\n",
    "    \n",
    "    # plot points with label 1 in black\n",
    "    ax.scatter(\n",
    "    train_input[train_target == 1, 0],\n",
    "    train_input[train_target == 1, 1],\n",
    "    c = 'black'\n",
    "    )\n",
    "    \n",
    "    #plot points with label 0 in blue\n",
    "    ax.scatter(\n",
    "        train_input[train_target == 0, 0],\n",
    "        train_input[train_target == 0, 1],\n",
    "        c = 'blue'\n",
    "    )\n",
    "\n",
    "    ax.axis([-1, 2, -1, 2])\n",
    "    \n",
    "\n",
    "    \n",
    "    ax.legend(\n",
    "        ['label 0', 'label 1']\n",
    "    )\n",
    "    \n",
    "    fig.suptitle('Points scattered randomly and their labels')\n",
    "    fig.savefig('points.png')\n",
    "    plt.show()"
   ]
  },
  {
   "cell_type": "code",
   "execution_count": 36,
   "metadata": {},
   "outputs": [
    {
     "data": {
      "image/png": "[encoded data removed]",
      "text/plain": [
       "<Figure size 432x288 with 1 Axes>"
      ]
     },
     "metadata": {
      "needs_background": "light"
     },
     "output_type": "display_data"
    }
   ],
   "source": [
    "train_input,train_target = generate_disc_set(1000)\n",
    "test_input,test_target = generate_disc_set(1000)\n",
    "plot_set(train_input,train_target)"
   ]
  },
  {
   "cell_type": "code",
   "execution_count": 37,
   "metadata": {},
   "outputs": [],
   "source": [
    "plt.show()"
   ]
  },
  {
   "cell_type": "code",
   "execution_count": 38,
   "metadata": {},
   "outputs": [
    {
     "data": {
      "text/plain": [
       "tensor([[ 1.1105,  0.4693],\n",
       "        [-0.8008,  1.2531],\n",
       "        [ 0.2852, -0.7632],\n",
       "        ...,\n",
       "        [-0.7094,  0.7798],\n",
       "        [-0.0386,  0.1875],\n",
       "        [ 0.1119,  1.2942]])"
      ]
     },
     "execution_count": 38,
     "metadata": {},
     "output_type": "execute_result"
    }
   ],
   "source": [
    "train_input,train_target = generate_disc_set(1000)\n",
    "test_input,test_target = generate_disc_set(1000)\n",
    "\n",
    "mu,std = train_input.mean(0), train_input.std(0)\n",
    "train_input.sub_(mu).div_(std)\n",
    "\n",
    "mu,std = test_input.mean(0), test_input.std(0)\n",
    "test_input.sub_(mu).div_(std)"
   ]
  },
  {
   "cell_type": "code",
   "execution_count": 39,
   "metadata": {},
   "outputs": [],
   "source": [
    "train_target = target_to_onehot(train_target)\n"
   ]
  },
  {
   "cell_type": "code",
   "execution_count": 40,
   "metadata": {},
   "outputs": [],
   "source": [
    "test_target = target_to_onehot(test_target)"
   ]
  },
  {
   "cell_type": "code",
   "execution_count": 41,
   "metadata": {},
   "outputs": [],
   "source": [
    "batch_size = 100\n",
    "n_epochs = 250\n",
    "train_error = []\n",
    "test_error = []\n",
    "acc_loss = []\n",
    "def train_model(model,train_input,train_target,test_input,test_target):\n",
    "    criterion = MSELoss()\n",
    "    optimizer = SGD(model.param(),lr = 0.01)\n",
    "    for e in range(0,n_epochs):\n",
    "        for input, targets in zip(train_input.split(batch_size),train_target.split(batch_size)):\n",
    "            output = model(input)\n",
    "            loss = criterion(output,targets)\n",
    "            optimizer.zero_grad()\n",
    "            model.backward(criterion.dloss(output,targets))\n",
    "            optimizer.step()\n",
    "            if e%50==0 :\n",
    "                print('epoch: ',e,' loss: ',loss)\n",
    "        acc_loss.append(loss.item())\n",
    "        train_error.append(compute_nb_errors(model,train_input,train_target)/1000 * 100)\n",
    "        test_error.append(compute_nb_errors(model,test_input,test_target)/1000 * 100)\n",
    "        "
   ]
  },
  {
   "cell_type": "code",
   "execution_count": 42,
   "metadata": {},
   "outputs": [],
   "source": [
    "model = Sequential((Linear(2,25),ReLU(),Linear(25,25),ReLU(),Linear(25,25),ReLU(),Linear(25,25),ReLU(),Linear(25,2)))"
   ]
  },
  {
   "cell_type": "code",
   "execution_count": 43,
   "metadata": {},
   "outputs": [],
   "source": [
    "            \n",
    "def compute_nb_errors(model,data_input,data_target):\n",
    "    nb_errors = 0\n",
    "    for input,targets in zip(data_input.split(batch_size),data_target.split(batch_size)):\n",
    "        output = model(input)\n",
    "        _,predicted_classes = torch.max(output,1)\n",
    "        for i in range(0,output.size(0)):\n",
    "            if(targets[i][predicted_classes[i]]!=1):\n",
    "                nb_errors = nb_errors+1\n",
    "                \n",
    "    return nb_errors"
   ]
  },
  {
   "cell_type": "code",
   "execution_count": 44,
   "metadata": {},
   "outputs": [
    {
     "name": "stdout",
     "output_type": "stream",
     "text": [
      "epoch:  0  loss:  tensor(226.0526)\n",
      "epoch:  0  loss:  tensor(193.9262)\n",
      "epoch:  0  loss:  tensor(159.7404)\n",
      "epoch:  0  loss:  tensor(134.4137)\n",
      "epoch:  0  loss:  tensor(125.2991)\n",
      "epoch:  0  loss:  tensor(104.5778)\n",
      "epoch:  0  loss:  tensor(100.6970)\n",
      "epoch:  0  loss:  tensor(88.6774)\n",
      "epoch:  0  loss:  tensor(82.6050)\n",
      "epoch:  0  loss:  tensor(81.0176)\n",
      "epoch:  50  loss:  tensor(48.0005)\n",
      "epoch:  50  loss:  tensor(48.3848)\n",
      "epoch:  50  loss:  tensor(47.8505)\n",
      "epoch:  50  loss:  tensor(47.5351)\n",
      "epoch:  50  loss:  tensor(48.0064)\n",
      "epoch:  50  loss:  tensor(47.9839)\n",
      "epoch:  50  loss:  tensor(47.2241)\n",
      "epoch:  50  loss:  tensor(47.4293)\n",
      "epoch:  50  loss:  tensor(47.4234)\n",
      "epoch:  50  loss:  tensor(47.4187)\n",
      "epoch:  100  loss:  tensor(34.0289)\n",
      "epoch:  100  loss:  tensor(36.9160)\n",
      "epoch:  100  loss:  tensor(36.7696)\n",
      "epoch:  100  loss:  tensor(33.4622)\n",
      "epoch:  100  loss:  tensor(36.1901)\n",
      "epoch:  100  loss:  tensor(35.8055)\n",
      "epoch:  100  loss:  tensor(33.2724)\n",
      "epoch:  100  loss:  tensor(34.0978)\n",
      "epoch:  100  loss:  tensor(33.4127)\n",
      "epoch:  100  loss:  tensor(34.5927)\n",
      "epoch:  150  loss:  tensor(10.3066)\n",
      "epoch:  150  loss:  tensor(10.5945)\n",
      "epoch:  150  loss:  tensor(12.0233)\n",
      "epoch:  150  loss:  tensor(10.4869)\n",
      "epoch:  150  loss:  tensor(11.2369)\n",
      "epoch:  150  loss:  tensor(10.1486)\n",
      "epoch:  150  loss:  tensor(10.9700)\n",
      "epoch:  150  loss:  tensor(11.2548)\n",
      "epoch:  150  loss:  tensor(10.5382)\n",
      "epoch:  150  loss:  tensor(11.7418)\n",
      "epoch:  200  loss:  tensor(7.8322)\n",
      "epoch:  200  loss:  tensor(8.3079)\n",
      "epoch:  200  loss:  tensor(8.9444)\n",
      "epoch:  200  loss:  tensor(8.0757)\n",
      "epoch:  200  loss:  tensor(8.8377)\n",
      "epoch:  200  loss:  tensor(8.0701)\n",
      "epoch:  200  loss:  tensor(8.6713)\n",
      "epoch:  200  loss:  tensor(8.5607)\n",
      "epoch:  200  loss:  tensor(8.0615)\n",
      "epoch:  200  loss:  tensor(9.2569)\n"
     ]
    }
   ],
   "source": [
    "train_model(model,train_input,train_target,test_input,test_target)"
   ]
  },
  {
   "cell_type": "code",
   "execution_count": 45,
   "metadata": {},
   "outputs": [
    {
     "data": {
      "text/plain": [
       "250"
      ]
     },
     "execution_count": 45,
     "metadata": {},
     "output_type": "execute_result"
    }
   ],
   "source": [
    "len(train_error)"
   ]
  },
  {
   "cell_type": "code",
   "execution_count": 46,
   "metadata": {},
   "outputs": [
    {
     "data": {
      "image/png": "[encoded data removed]",
      "text/plain": [
       "<Figure size 288x288 with 1 Axes>"
      ]
     },
     "metadata": {
      "needs_background": "light"
     },
     "output_type": "display_data"
    }
   ],
   "source": [
    "fig, axes = plt.subplots(1,1, figsize=(4, 4))\n",
    "axes.plot(train_error, label='Training error')\n",
    "axes.plot(test_error, label='Testing error')\n",
    "axes.set_xlabel(\"Epoch\")\n",
    "axes.set_ylabel(\"Error rate\")\n",
    "axes.legend(loc='upper right')\n",
    "axes.set_title(\"train error vs test error \")\n",
    "fig.savefig(\"proj2.png\")"
   ]
  },
  {
   "cell_type": "code",
   "execution_count": 47,
   "metadata": {},
   "outputs": [
    {
     "data": {
      "image/png": "[encoded data removed]",
      "text/plain": [
       "<Figure size 288x288 with 1 Axes>"
      ]
     },
     "metadata": {
      "needs_background": "light"
     },
     "output_type": "display_data"
    }
   ],
   "source": [
    "fig, axes = plt.subplots(1,1, figsize=(4, 4))\n",
    "axes.plot(acc_loss, label='loss')\n",
    "axes.set_xlabel(\"Epoch\")\n",
    "axes.set_ylabel(\"loss\")\n",
    "axes.legend(loc='upper right')\n",
    "axes.set_title(\"Evolution of loss\")\n",
    "fig.savefig(\"proj2loss.png\")"
   ]
  },
  {
   "cell_type": "code",
   "execution_count": 48,
   "metadata": {},
   "outputs": [
    {
     "data": {
      "text/plain": [
       "0.8999999999999999"
      ]
     },
     "execution_count": 48,
     "metadata": {},
     "output_type": "execute_result"
    }
   ],
   "source": [
    "compute_nb_errors(model,train_input,train_target)/1000 * 100"
   ]
  },
  {
   "cell_type": "code",
   "execution_count": 49,
   "metadata": {},
   "outputs": [
    {
     "data": {
      "text/plain": [
       "2.4"
      ]
     },
     "execution_count": 49,
     "metadata": {},
     "output_type": "execute_result"
    }
   ],
   "source": [
    "compute_nb_errors(model,test_input,test_target)/1000 * 100"
   ]
  },
  {
   "cell_type": "code",
   "execution_count": 50,
   "metadata": {},
   "outputs": [],
   "source": [
    "\n",
    "all_loss = []\n",
    "learningrates = [0.001,0.005,0.008,0.01]\n",
    "for lr in learningrates:\n",
    "    model = Sequential((Linear(2,25),ReLU(),Linear(25,25),ReLU(),Linear(25,25),ReLU(),Linear(25,25),ReLU(),Linear(25,2)))\n",
    "    acc_loss = []\n",
    "    criterion = MSELoss()\n",
    "    optimizer = SGD(model.param(),lr = lr)\n",
    "    for e in range(0,n_epochs):\n",
    "        for input, targets in zip(train_input.split(batch_size),train_target.split(batch_size)):\n",
    "            output = model(input)\n",
    "            loss = criterion(output,targets)\n",
    "            optimizer.zero_grad()\n",
    "            model.backward(criterion.dloss(output,targets))\n",
    "            optimizer.step()\n",
    "        acc_loss.append(loss)\n",
    "    all_loss.append(acc_loss)\n",
    "\n",
    "        "
   ]
  },
  {
   "cell_type": "code",
   "execution_count": 51,
   "metadata": {},
   "outputs": [
    {
     "data": {
      "image/png": "[encoded data removed]",
      "text/plain": [
       "<Figure size 288x288 with 1 Axes>"
      ]
     },
     "metadata": {
      "needs_background": "light"
     },
     "output_type": "display_data"
    }
   ],
   "source": [
    "fig, axes = plt.subplots(1,1, figsize=(4, 4))\n",
    "for i in range(len(all_loss)):\n",
    "    axes.plot(all_loss[i], label =learningrates[i])\n",
    "\n",
    "axes.set_xlabel(\"Epoch\")\n",
    "axes.set_ylabel(\"loss\")\n",
    "axes.legend(loc='upper right')\n",
    "axes.set_title(\"Influence of learning rate on loss\")\n",
    "fig.savefig(\"proj2lr.png\")"
   ]
  },
  {
   "cell_type": "code",
   "execution_count": 55,
   "metadata": {},
   "outputs": [
    {
     "name": "stdout",
     "output_type": "stream",
     "text": [
      "epoch:  0  loss:  tensor(61.5662)\n",
      "epoch:  10  loss:  tensor(49.4743)\n",
      "epoch:  20  loss:  tensor(49.2348)\n",
      "epoch:  30  loss:  tensor(48.9207)\n",
      "epoch:  40  loss:  tensor(48.5713)\n",
      "epoch:  50  loss:  tensor(48.0536)\n",
      "epoch:  60  loss:  tensor(47.2383)\n",
      "epoch:  70  loss:  tensor(45.9154)\n",
      "epoch:  80  loss:  tensor(43.7768)\n",
      "epoch:  90  loss:  tensor(40.2191)\n",
      "epoch:  100  loss:  tensor(34.0514)\n",
      "epoch:  110  loss:  tensor(25.4626)\n",
      "epoch:  120  loss:  tensor(18.9340)\n",
      "epoch:  130  loss:  tensor(16.5647)\n",
      "epoch:  140  loss:  tensor(15.3953)\n",
      "epoch:  150  loss:  tensor(14.4247)\n",
      "epoch:  160  loss:  tensor(13.7047)\n",
      "epoch:  170  loss:  tensor(13.1906)\n",
      "epoch:  180  loss:  tensor(12.7277)\n",
      "epoch:  190  loss:  tensor(12.3340)\n",
      "epoch:  200  loss:  tensor(11.9414)\n",
      "epoch:  210  loss:  tensor(11.5012)\n",
      "epoch:  220  loss:  tensor(11.0822)\n",
      "epoch:  230  loss:  tensor(10.7545)\n",
      "epoch:  240  loss:  tensor(10.4239)\n",
      "train error :  1.9 %\n",
      "test error :  3.4000000000000004 %\n"
     ]
    }
   ],
   "source": [
    "%run test.py"
   ]
  }
 ],
 "metadata": {
  "kernelspec": {
   "display_name": "Python 3",
   "language": "python",
   "name": "python3"
  },
  "language_info": {
   "codemirror_mode": {
    "name": "ipython",
    "version": 3
   },
   "file_extension": ".py",
   "mimetype": "text/x-python",
   "name": "python",
   "nbconvert_exporter": "python",
   "pygments_lexer": "ipython3",
   "version": "3.7.6"
  }
 },
 "nbformat": 4,
 "nbformat_minor": 4
}
