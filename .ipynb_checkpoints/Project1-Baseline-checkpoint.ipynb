{
 "cells": [
  {
   "cell_type": "markdown",
   "metadata": {},
   "source": [
    "#  <center>Project 1 - Baseline implementation - Deep convolutional neural network</center>"
   ]
  },
  {
   "cell_type": "markdown",
   "metadata": {},
   "source": [
    "The objective of this project is to test different architectures to compare two digits visible in a\n",
    "two-channel image. It aims at showing in particular the impact of weight sharing, and of the use of an\n",
    "auxiliary loss to help the training of the main objective.\n",
    "It should be implemented with PyTorch only code, in particular without using other external libraries\n",
    "such as scikit-learn or numpy.\n"
   ]
  },
  {
   "cell_type": "code",
   "execution_count": 1,
   "metadata": {},
   "outputs": [],
   "source": [
    "import torch\n",
    "from torch import Tensor\n",
    "from torch import nn\n",
    "from torch.nn import functional as F\n",
    "import dlc_practical_prologue as prologue"
   ]
  },
  {
   "cell_type": "markdown",
   "metadata": {},
   "source": [
    "# Loading the data"
   ]
  },
  {
   "cell_type": "markdown",
   "metadata": {},
   "source": [
    "We generate the data sets to using with the function generate_pair_sets(N) defined in the file\n",
    "dlc_practical_prologue.py. This function returns six tensors:\n"
   ]
  },
  {
   "cell_type": "markdown",
   "metadata": {},
   "source": [
    "| Name          | Tensor dimension | Type     | Content                                    |\n",
    "|---------------|------------------|----------|--------------------------------------------|\n",
    "| train_input   | N × 2 × 14 × 14  | float32  | Images                                     |\n",
    "| train_target  | N                | int64    | Class to predict ∈ {0, 1}                  |\n",
    "| train_classes | N × 2            | int64    | Classes of the two digits ∈ {0, . . . , 9} |\n",
    "| test_input    | N × 2 × 14 × 14  | float32  | Images                                     |\n",
    "| test_target   | N                | int64    | Class to predict ∈ {0, 1}                  |\n",
    "| test_classes  | N × 2            | int64    | Classes of the two digits ∈ {0, . . . , 9} |"
   ]
  },
  {
   "cell_type": "code",
   "execution_count": 2,
   "metadata": {},
   "outputs": [],
   "source": [
    "train_input, train_target, train_classes, test_input, test_target, test_classes = prologue.generate_pair_sets(1000)"
   ]
  },
  {
   "cell_type": "code",
   "execution_count": 3,
   "metadata": {},
   "outputs": [
    {
     "data": {
      "text/plain": [
       "tensor([[[[-0.4675, -0.4675, -0.4675,  ..., -0.4675, -0.4675, -0.4675],\n",
       "          [-0.4675, -0.4675, -0.4675,  ..., -0.4675, -0.4675, -0.4675],\n",
       "          [-0.4675, -0.4675, -0.4675,  ..., -0.4675, -0.4675, -0.4675],\n",
       "          ...,\n",
       "          [-0.4675, -0.4675, -0.4675,  ..., -0.4675, -0.4675, -0.4675],\n",
       "          [-0.4675, -0.4675, -0.4675,  ..., -0.4675, -0.4675, -0.4675],\n",
       "          [-0.4675, -0.4675, -0.4675,  ..., -0.4675, -0.4675, -0.4675]],\n",
       "\n",
       "         [[-0.4675, -0.4675, -0.4675,  ..., -0.4675, -0.4675, -0.4675],\n",
       "          [-0.4675, -0.4675, -0.4675,  ..., -0.4675, -0.4675, -0.4675],\n",
       "          [-0.4675, -0.4675, -0.4675,  ..., -0.4675, -0.4675, -0.4675],\n",
       "          ...,\n",
       "          [-0.4675, -0.4675, -0.4675,  ..., -0.4675, -0.4675, -0.4675],\n",
       "          [-0.4675, -0.4675, -0.4675,  ..., -0.4675, -0.4675, -0.4675],\n",
       "          [-0.4675, -0.4675, -0.4675,  ..., -0.4675, -0.4675, -0.4675]]],\n",
       "\n",
       "\n",
       "        [[[-0.4675, -0.4675, -0.4675,  ..., -0.4675, -0.4675, -0.4675],\n",
       "          [-0.4675, -0.4675, -0.4675,  ..., -0.4675, -0.4675, -0.4675],\n",
       "          [-0.4675, -0.4675, -0.4675,  ..., -0.4675, -0.4675, -0.4675],\n",
       "          ...,\n",
       "          [-0.4675, -0.4675, -0.4675,  ..., -0.4675, -0.4675, -0.4675],\n",
       "          [-0.4675, -0.4675, -0.4675,  ..., -0.4675, -0.4675, -0.4675],\n",
       "          [-0.4675, -0.4675, -0.4675,  ..., -0.4675, -0.4675, -0.4675]],\n",
       "\n",
       "         [[-0.4675, -0.4675, -0.4675,  ..., -0.4675, -0.4675, -0.4675],\n",
       "          [-0.4675, -0.4675, -0.4675,  ..., -0.4675, -0.4675, -0.4675],\n",
       "          [-0.4675, -0.4675, -0.4675,  ..., -0.4675, -0.4675, -0.4675],\n",
       "          ...,\n",
       "          [-0.4675, -0.4675, -0.4675,  ..., -0.4675, -0.4675, -0.4675],\n",
       "          [-0.4675, -0.4675, -0.4675,  ..., -0.4675, -0.4675, -0.4675],\n",
       "          [-0.4675, -0.4675, -0.4675,  ..., -0.4675, -0.4675, -0.4675]]],\n",
       "\n",
       "\n",
       "        [[[-0.4675, -0.4675, -0.4675,  ..., -0.4675, -0.4675, -0.4675],\n",
       "          [-0.4675, -0.4675, -0.4675,  ..., -0.4675, -0.4675, -0.4675],\n",
       "          [-0.4675, -0.4675, -0.4675,  ..., -0.4675, -0.4675, -0.4675],\n",
       "          ...,\n",
       "          [-0.4675, -0.4675, -0.4675,  ..., -0.4675, -0.4675, -0.4675],\n",
       "          [-0.4675, -0.4675, -0.4675,  ..., -0.4675, -0.4675, -0.4675],\n",
       "          [-0.4675, -0.4675, -0.4675,  ..., -0.4675, -0.4675, -0.4675]],\n",
       "\n",
       "         [[-0.4675, -0.4675, -0.4675,  ..., -0.4675, -0.4675, -0.4675],\n",
       "          [-0.4675, -0.4675, -0.4675,  ..., -0.4675, -0.4675, -0.4675],\n",
       "          [-0.4675, -0.4675, -0.4675,  ..., -0.4675, -0.4675, -0.4675],\n",
       "          ...,\n",
       "          [-0.4675, -0.4675, -0.4675,  ..., -0.4675, -0.4675, -0.4675],\n",
       "          [-0.4675, -0.4675, -0.4675,  ..., -0.4675, -0.4675, -0.4675],\n",
       "          [-0.4675, -0.4675, -0.4675,  ..., -0.4675, -0.4675, -0.4675]]],\n",
       "\n",
       "\n",
       "        ...,\n",
       "\n",
       "\n",
       "        [[[-0.4675, -0.4675, -0.4675,  ..., -0.4675, -0.4675, -0.4675],\n",
       "          [-0.4675, -0.4675, -0.4675,  ..., -0.4675, -0.4675, -0.4675],\n",
       "          [-0.4675, -0.4675, -0.4675,  ..., -0.4675, -0.4675, -0.4675],\n",
       "          ...,\n",
       "          [-0.4675, -0.4675, -0.4675,  ..., -0.4675, -0.4675, -0.4675],\n",
       "          [-0.4675, -0.4675, -0.4675,  ..., -0.4675, -0.4675, -0.4675],\n",
       "          [-0.4675, -0.4675, -0.4675,  ..., -0.4675, -0.4675, -0.4675]],\n",
       "\n",
       "         [[-0.4675, -0.4675, -0.4675,  ..., -0.4675, -0.4675, -0.4675],\n",
       "          [-0.4675, -0.4675, -0.4675,  ..., -0.4675, -0.4675, -0.4675],\n",
       "          [-0.4675, -0.4675, -0.4675,  ..., -0.4675, -0.4675, -0.4675],\n",
       "          ...,\n",
       "          [-0.4675, -0.4675, -0.4675,  ..., -0.4675, -0.4675, -0.4675],\n",
       "          [-0.4675, -0.4675, -0.4675,  ..., -0.4675, -0.4675, -0.4675],\n",
       "          [-0.4675, -0.4675, -0.4675,  ..., -0.4675, -0.4675, -0.4675]]],\n",
       "\n",
       "\n",
       "        [[[-0.4675, -0.4675, -0.4675,  ..., -0.4675, -0.4675, -0.4675],\n",
       "          [-0.4675, -0.4675, -0.4675,  ..., -0.4675, -0.4675, -0.4675],\n",
       "          [-0.4675, -0.4675, -0.4675,  ..., -0.4675, -0.4675, -0.4675],\n",
       "          ...,\n",
       "          [-0.4675, -0.4675, -0.4675,  ..., -0.4675, -0.4675, -0.4675],\n",
       "          [-0.4675, -0.4675, -0.4675,  ..., -0.4675, -0.4675, -0.4675],\n",
       "          [-0.4675, -0.4675, -0.4675,  ..., -0.4675, -0.4675, -0.4675]],\n",
       "\n",
       "         [[-0.4675, -0.4675, -0.4675,  ..., -0.4675, -0.4675, -0.4675],\n",
       "          [-0.4675, -0.4675, -0.4675,  ..., -0.4675, -0.4675, -0.4675],\n",
       "          [-0.4675, -0.4675, -0.4675,  ..., -0.4675, -0.4675, -0.4675],\n",
       "          ...,\n",
       "          [-0.4675, -0.4675, -0.4675,  ..., -0.4675, -0.4675, -0.4675],\n",
       "          [-0.4675, -0.4675, -0.4675,  ..., -0.4675, -0.4675, -0.4675],\n",
       "          [-0.4675, -0.4675, -0.4675,  ..., -0.4675, -0.4675, -0.4675]]],\n",
       "\n",
       "\n",
       "        [[[-0.4675, -0.4675, -0.4675,  ..., -0.4675, -0.4675, -0.4675],\n",
       "          [-0.4675, -0.4675, -0.4675,  ..., -0.4675, -0.4675, -0.4675],\n",
       "          [-0.4675, -0.4675, -0.4675,  ..., -0.4675, -0.4675, -0.4675],\n",
       "          ...,\n",
       "          [-0.4675, -0.4675, -0.4675,  ..., -0.4675, -0.4675, -0.4675],\n",
       "          [-0.4675, -0.4675,  0.1349,  ..., -0.4675, -0.4675, -0.4675],\n",
       "          [-0.4675, -0.4675, -0.0775,  ..., -0.4675, -0.4675, -0.4675]],\n",
       "\n",
       "         [[-0.4675, -0.4675, -0.4675,  ..., -0.4675, -0.4675, -0.4675],\n",
       "          [-0.4675, -0.4675, -0.4675,  ..., -0.4675, -0.4675, -0.4675],\n",
       "          [-0.4675, -0.4675, -0.4675,  ..., -0.4675, -0.4675, -0.4675],\n",
       "          ...,\n",
       "          [-0.4675, -0.4675, -0.4675,  ..., -0.4675, -0.4675, -0.4675],\n",
       "          [-0.4675, -0.4675, -0.4675,  ..., -0.4675, -0.4675, -0.4675],\n",
       "          [-0.4675, -0.4675, -0.4675,  ..., -0.4675, -0.4675, -0.4675]]]])"
      ]
     },
     "execution_count": 3,
     "metadata": {},
     "output_type": "execute_result"
    }
   ],
   "source": [
    "mu,std = train_input.mean(), train_input.std()\n",
    "train_input.sub_(mu).div_(std)\n",
    "\n",
    "mu,std = test_input.mean(), test_input.std()\n",
    "test_input.sub_(mu).div_(std)"
   ]
  },
  {
   "cell_type": "markdown",
   "metadata": {},
   "source": [
    "# Defining the Model"
   ]
  },
  {
   "cell_type": "code",
   "execution_count": 63,
   "metadata": {},
   "outputs": [],
   "source": [
    "class BaselineNet(nn.Module):\n",
    "    def __init__(self, nb_hidden):\n",
    "        super(BaselineNet, self).__init__()\n",
    "        self.conv1 = nn.Conv2d(2, 32, kernel_size=3)\n",
    "        self.conv2 = nn.Conv2d(32, 64, kernel_size=3)\n",
    "        self.fc1 = nn.Linear(256, nb_hidden)\n",
    "        self.fc2 = nn.Linear(nb_hidden, 2)\n",
    "\n",
    "    def forward(self, x):\n",
    "        x = F.relu(F.max_pool2d(self.conv1(x), kernel_size=2, stride=2))\n",
    "        x = F.relu(F.max_pool2d(self.conv2(x), kernel_size=2, stride=2))\n",
    "        x = F.relu(self.fc1(x.view(-1, 256)))\n",
    "        x = self.fc2(x)\n",
    "        return x\n"
   ]
  },
  {
   "cell_type": "raw",
   "metadata": {},
   "source": [
    "\n",
    "----------------------------------------------------------------\n",
    "        Layer (type)               Output Shape         Param #\n",
    "================================================================\n",
    "            Conv2d-1           [-1, 32, 12, 12]             608\n",
    "            Conv2d-2             [-1, 64, 4, 4]          18,496\n",
    "            Linear-3                  [-1, 100]          25,700\n",
    "            Linear-4                    [-1, 2]             202\n",
    "================================================================\n",
    "Total params: 45,006\n",
    "Trainable params: 45,006\n",
    "Non-trainable params: 0\n",
    "----------------------------------------------------------------\n",
    "Input size (MB): 0.00\n",
    "Forward/backward pass size (MB): 0.04\n",
    "Params size (MB): 0.17\n",
    "Estimated Total Size (MB): 0.22\n",
    "----------------------------------------------------------------"
   ]
  },
  {
   "cell_type": "markdown",
   "metadata": {},
   "source": [
    "# Training the model"
   ]
  },
  {
   "cell_type": "markdown",
   "metadata": {},
   "source": [
    "CNN with 2 convolutional layers and 2 fully connected layers "
   ]
  },
  {
   "cell_type": "code",
   "execution_count": 64,
   "metadata": {},
   "outputs": [],
   "source": [
    "batch_size = 100\n",
    "n_epochs = 25\n",
    "def train_model(model,train_input,train_target):\n",
    "    criterion = nn.CrossEntropyLoss()\n",
    "    optimizer = torch.optim.SGD(model.parameters(),lr = 0.15)\n",
    "    for e in range(0,n_epochs):\n",
    "        for input, targets in zip(train_input.split(batch_size),train_target.split(batch_size)):\n",
    "            output = model(input)\n",
    "            loss = criterion(output,targets)\n",
    "            optimizer.zero_grad()\n",
    "            loss.backward()\n",
    "            optimizer.step()\n",
    "        if(e%5 ==0):\n",
    "            print('epoch : ',e,' loss : ',loss.item())"
   ]
  },
  {
   "cell_type": "code",
   "execution_count": 65,
   "metadata": {},
   "outputs": [
    {
     "ename": "RuntimeError",
     "evalue": "size mismatch, m1: [100 x 256], m2: [20 x 14] at /Users/distiller/project/conda/conda-bld/pytorch_1573049287641/work/aten/src/TH/generic/THTensorMath.cpp:197",
     "output_type": "error",
     "traceback": [
      "\u001b[0;31m---------------------------------------------------------------------------\u001b[0m",
      "\u001b[0;31mRuntimeError\u001b[0m                              Traceback (most recent call last)",
      "\u001b[0;32m<ipython-input-65-ed31ad7294d7>\u001b[0m in \u001b[0;36m<module>\u001b[0;34m\u001b[0m\n\u001b[1;32m      1\u001b[0m \u001b[0mmodel\u001b[0m \u001b[0;34m=\u001b[0m \u001b[0mNet\u001b[0m\u001b[0;34m(\u001b[0m\u001b[0;36m14\u001b[0m\u001b[0;34m)\u001b[0m\u001b[0;34m\u001b[0m\u001b[0;34m\u001b[0m\u001b[0m\n\u001b[0;32m----> 2\u001b[0;31m \u001b[0mtrain_model\u001b[0m\u001b[0;34m(\u001b[0m\u001b[0mmodel\u001b[0m\u001b[0;34m,\u001b[0m\u001b[0mtrain_input\u001b[0m\u001b[0;34m,\u001b[0m\u001b[0mtrain_target\u001b[0m\u001b[0;34m)\u001b[0m\u001b[0;34m\u001b[0m\u001b[0;34m\u001b[0m\u001b[0m\n\u001b[0m",
      "\u001b[0;32m<ipython-input-64-05566fea5475>\u001b[0m in \u001b[0;36mtrain_model\u001b[0;34m(model, train_input, train_target)\u001b[0m\n\u001b[1;32m      6\u001b[0m     \u001b[0;32mfor\u001b[0m \u001b[0me\u001b[0m \u001b[0;32min\u001b[0m \u001b[0mrange\u001b[0m\u001b[0;34m(\u001b[0m\u001b[0;36m0\u001b[0m\u001b[0;34m,\u001b[0m\u001b[0mn_epochs\u001b[0m\u001b[0;34m)\u001b[0m\u001b[0;34m:\u001b[0m\u001b[0;34m\u001b[0m\u001b[0;34m\u001b[0m\u001b[0m\n\u001b[1;32m      7\u001b[0m         \u001b[0;32mfor\u001b[0m \u001b[0minput\u001b[0m\u001b[0;34m,\u001b[0m \u001b[0mtargets\u001b[0m \u001b[0;32min\u001b[0m \u001b[0mzip\u001b[0m\u001b[0;34m(\u001b[0m\u001b[0mtrain_input\u001b[0m\u001b[0;34m.\u001b[0m\u001b[0msplit\u001b[0m\u001b[0;34m(\u001b[0m\u001b[0mbatch_size\u001b[0m\u001b[0;34m)\u001b[0m\u001b[0;34m,\u001b[0m\u001b[0mtrain_target\u001b[0m\u001b[0;34m.\u001b[0m\u001b[0msplit\u001b[0m\u001b[0;34m(\u001b[0m\u001b[0mbatch_size\u001b[0m\u001b[0;34m)\u001b[0m\u001b[0;34m)\u001b[0m\u001b[0;34m:\u001b[0m\u001b[0;34m\u001b[0m\u001b[0;34m\u001b[0m\u001b[0m\n\u001b[0;32m----> 8\u001b[0;31m             \u001b[0moutput\u001b[0m \u001b[0;34m=\u001b[0m \u001b[0mmodel\u001b[0m\u001b[0;34m(\u001b[0m\u001b[0minput\u001b[0m\u001b[0;34m)\u001b[0m\u001b[0;34m\u001b[0m\u001b[0;34m\u001b[0m\u001b[0m\n\u001b[0m\u001b[1;32m      9\u001b[0m             \u001b[0mloss\u001b[0m \u001b[0;34m=\u001b[0m \u001b[0mcriterion\u001b[0m\u001b[0;34m(\u001b[0m\u001b[0moutput\u001b[0m\u001b[0;34m,\u001b[0m\u001b[0mtargets\u001b[0m\u001b[0;34m)\u001b[0m\u001b[0;34m\u001b[0m\u001b[0;34m\u001b[0m\u001b[0m\n\u001b[1;32m     10\u001b[0m             \u001b[0moptimizer\u001b[0m\u001b[0;34m.\u001b[0m\u001b[0mzero_grad\u001b[0m\u001b[0;34m(\u001b[0m\u001b[0;34m)\u001b[0m\u001b[0;34m\u001b[0m\u001b[0;34m\u001b[0m\u001b[0m\n",
      "\u001b[0;32m/opt/anaconda3/lib/python3.7/site-packages/torch/nn/modules/module.py\u001b[0m in \u001b[0;36m__call__\u001b[0;34m(self, *input, **kwargs)\u001b[0m\n\u001b[1;32m    539\u001b[0m             \u001b[0mresult\u001b[0m \u001b[0;34m=\u001b[0m \u001b[0mself\u001b[0m\u001b[0;34m.\u001b[0m\u001b[0m_slow_forward\u001b[0m\u001b[0;34m(\u001b[0m\u001b[0;34m*\u001b[0m\u001b[0minput\u001b[0m\u001b[0;34m,\u001b[0m \u001b[0;34m**\u001b[0m\u001b[0mkwargs\u001b[0m\u001b[0;34m)\u001b[0m\u001b[0;34m\u001b[0m\u001b[0;34m\u001b[0m\u001b[0m\n\u001b[1;32m    540\u001b[0m         \u001b[0;32melse\u001b[0m\u001b[0;34m:\u001b[0m\u001b[0;34m\u001b[0m\u001b[0;34m\u001b[0m\u001b[0m\n\u001b[0;32m--> 541\u001b[0;31m             \u001b[0mresult\u001b[0m \u001b[0;34m=\u001b[0m \u001b[0mself\u001b[0m\u001b[0;34m.\u001b[0m\u001b[0mforward\u001b[0m\u001b[0;34m(\u001b[0m\u001b[0;34m*\u001b[0m\u001b[0minput\u001b[0m\u001b[0;34m,\u001b[0m \u001b[0;34m**\u001b[0m\u001b[0mkwargs\u001b[0m\u001b[0;34m)\u001b[0m\u001b[0;34m\u001b[0m\u001b[0;34m\u001b[0m\u001b[0m\n\u001b[0m\u001b[1;32m    542\u001b[0m         \u001b[0;32mfor\u001b[0m \u001b[0mhook\u001b[0m \u001b[0;32min\u001b[0m \u001b[0mself\u001b[0m\u001b[0;34m.\u001b[0m\u001b[0m_forward_hooks\u001b[0m\u001b[0;34m.\u001b[0m\u001b[0mvalues\u001b[0m\u001b[0;34m(\u001b[0m\u001b[0;34m)\u001b[0m\u001b[0;34m:\u001b[0m\u001b[0;34m\u001b[0m\u001b[0;34m\u001b[0m\u001b[0m\n\u001b[1;32m    543\u001b[0m             \u001b[0mhook_result\u001b[0m \u001b[0;34m=\u001b[0m \u001b[0mhook\u001b[0m\u001b[0;34m(\u001b[0m\u001b[0mself\u001b[0m\u001b[0;34m,\u001b[0m \u001b[0minput\u001b[0m\u001b[0;34m,\u001b[0m \u001b[0mresult\u001b[0m\u001b[0;34m)\u001b[0m\u001b[0;34m\u001b[0m\u001b[0;34m\u001b[0m\u001b[0m\n",
      "\u001b[0;32m<ipython-input-63-fcea695a5151>\u001b[0m in \u001b[0;36mforward\u001b[0;34m(self, x)\u001b[0m\n\u001b[1;32m     12\u001b[0m         \u001b[0mx\u001b[0m \u001b[0;34m=\u001b[0m \u001b[0mF\u001b[0m\u001b[0;34m.\u001b[0m\u001b[0mrelu\u001b[0m\u001b[0;34m(\u001b[0m\u001b[0mF\u001b[0m\u001b[0;34m.\u001b[0m\u001b[0mmax_pool2d\u001b[0m\u001b[0;34m(\u001b[0m\u001b[0mself\u001b[0m\u001b[0;34m.\u001b[0m\u001b[0mconv1\u001b[0m\u001b[0;34m(\u001b[0m\u001b[0mx\u001b[0m\u001b[0;34m)\u001b[0m\u001b[0;34m,\u001b[0m \u001b[0mkernel_size\u001b[0m\u001b[0;34m=\u001b[0m\u001b[0;36m2\u001b[0m\u001b[0;34m,\u001b[0m \u001b[0mstride\u001b[0m\u001b[0;34m=\u001b[0m\u001b[0;36m2\u001b[0m\u001b[0;34m)\u001b[0m\u001b[0;34m)\u001b[0m\u001b[0;34m\u001b[0m\u001b[0;34m\u001b[0m\u001b[0m\n\u001b[1;32m     13\u001b[0m         \u001b[0mx\u001b[0m \u001b[0;34m=\u001b[0m \u001b[0mF\u001b[0m\u001b[0;34m.\u001b[0m\u001b[0mrelu\u001b[0m\u001b[0;34m(\u001b[0m\u001b[0mF\u001b[0m\u001b[0;34m.\u001b[0m\u001b[0mmax_pool2d\u001b[0m\u001b[0;34m(\u001b[0m\u001b[0mself\u001b[0m\u001b[0;34m.\u001b[0m\u001b[0mconv2\u001b[0m\u001b[0;34m(\u001b[0m\u001b[0mx\u001b[0m\u001b[0;34m)\u001b[0m\u001b[0;34m,\u001b[0m \u001b[0mkernel_size\u001b[0m\u001b[0;34m=\u001b[0m\u001b[0;36m2\u001b[0m\u001b[0;34m,\u001b[0m \u001b[0mstride\u001b[0m\u001b[0;34m=\u001b[0m\u001b[0;36m2\u001b[0m\u001b[0;34m)\u001b[0m\u001b[0;34m)\u001b[0m\u001b[0;34m\u001b[0m\u001b[0;34m\u001b[0m\u001b[0m\n\u001b[0;32m---> 14\u001b[0;31m         \u001b[0mx\u001b[0m \u001b[0;34m=\u001b[0m \u001b[0mF\u001b[0m\u001b[0;34m.\u001b[0m\u001b[0mrelu\u001b[0m\u001b[0;34m(\u001b[0m\u001b[0mself\u001b[0m\u001b[0;34m.\u001b[0m\u001b[0mfc1\u001b[0m\u001b[0;34m(\u001b[0m\u001b[0mx\u001b[0m\u001b[0;34m.\u001b[0m\u001b[0mview\u001b[0m\u001b[0;34m(\u001b[0m\u001b[0;34m-\u001b[0m\u001b[0;36m1\u001b[0m\u001b[0;34m,\u001b[0m \u001b[0;36m256\u001b[0m\u001b[0;34m)\u001b[0m\u001b[0;34m)\u001b[0m\u001b[0;34m)\u001b[0m\u001b[0;34m\u001b[0m\u001b[0;34m\u001b[0m\u001b[0m\n\u001b[0m\u001b[1;32m     15\u001b[0m         \u001b[0mx\u001b[0m \u001b[0;34m=\u001b[0m \u001b[0mself\u001b[0m\u001b[0;34m.\u001b[0m\u001b[0mfc2\u001b[0m\u001b[0;34m(\u001b[0m\u001b[0mx\u001b[0m\u001b[0;34m)\u001b[0m\u001b[0;34m\u001b[0m\u001b[0;34m\u001b[0m\u001b[0m\n\u001b[1;32m     16\u001b[0m         \u001b[0mx\u001b[0m \u001b[0;34m=\u001b[0m \u001b[0mself\u001b[0m\u001b[0;34m.\u001b[0m\u001b[0mfc3\u001b[0m\u001b[0;34m(\u001b[0m\u001b[0mx\u001b[0m\u001b[0;34m)\u001b[0m\u001b[0;34m\u001b[0m\u001b[0;34m\u001b[0m\u001b[0m\n",
      "\u001b[0;32m/opt/anaconda3/lib/python3.7/site-packages/torch/nn/modules/module.py\u001b[0m in \u001b[0;36m__call__\u001b[0;34m(self, *input, **kwargs)\u001b[0m\n\u001b[1;32m    539\u001b[0m             \u001b[0mresult\u001b[0m \u001b[0;34m=\u001b[0m \u001b[0mself\u001b[0m\u001b[0;34m.\u001b[0m\u001b[0m_slow_forward\u001b[0m\u001b[0;34m(\u001b[0m\u001b[0;34m*\u001b[0m\u001b[0minput\u001b[0m\u001b[0;34m,\u001b[0m \u001b[0;34m**\u001b[0m\u001b[0mkwargs\u001b[0m\u001b[0;34m)\u001b[0m\u001b[0;34m\u001b[0m\u001b[0;34m\u001b[0m\u001b[0m\n\u001b[1;32m    540\u001b[0m         \u001b[0;32melse\u001b[0m\u001b[0;34m:\u001b[0m\u001b[0;34m\u001b[0m\u001b[0;34m\u001b[0m\u001b[0m\n\u001b[0;32m--> 541\u001b[0;31m             \u001b[0mresult\u001b[0m \u001b[0;34m=\u001b[0m \u001b[0mself\u001b[0m\u001b[0;34m.\u001b[0m\u001b[0mforward\u001b[0m\u001b[0;34m(\u001b[0m\u001b[0;34m*\u001b[0m\u001b[0minput\u001b[0m\u001b[0;34m,\u001b[0m \u001b[0;34m**\u001b[0m\u001b[0mkwargs\u001b[0m\u001b[0;34m)\u001b[0m\u001b[0;34m\u001b[0m\u001b[0;34m\u001b[0m\u001b[0m\n\u001b[0m\u001b[1;32m    542\u001b[0m         \u001b[0;32mfor\u001b[0m \u001b[0mhook\u001b[0m \u001b[0;32min\u001b[0m \u001b[0mself\u001b[0m\u001b[0;34m.\u001b[0m\u001b[0m_forward_hooks\u001b[0m\u001b[0;34m.\u001b[0m\u001b[0mvalues\u001b[0m\u001b[0;34m(\u001b[0m\u001b[0;34m)\u001b[0m\u001b[0;34m:\u001b[0m\u001b[0;34m\u001b[0m\u001b[0;34m\u001b[0m\u001b[0m\n\u001b[1;32m    543\u001b[0m             \u001b[0mhook_result\u001b[0m \u001b[0;34m=\u001b[0m \u001b[0mhook\u001b[0m\u001b[0;34m(\u001b[0m\u001b[0mself\u001b[0m\u001b[0;34m,\u001b[0m \u001b[0minput\u001b[0m\u001b[0;34m,\u001b[0m \u001b[0mresult\u001b[0m\u001b[0;34m)\u001b[0m\u001b[0;34m\u001b[0m\u001b[0;34m\u001b[0m\u001b[0m\n",
      "\u001b[0;32m/opt/anaconda3/lib/python3.7/site-packages/torch/nn/modules/linear.py\u001b[0m in \u001b[0;36mforward\u001b[0;34m(self, input)\u001b[0m\n\u001b[1;32m     85\u001b[0m \u001b[0;34m\u001b[0m\u001b[0m\n\u001b[1;32m     86\u001b[0m     \u001b[0;32mdef\u001b[0m \u001b[0mforward\u001b[0m\u001b[0;34m(\u001b[0m\u001b[0mself\u001b[0m\u001b[0;34m,\u001b[0m \u001b[0minput\u001b[0m\u001b[0;34m)\u001b[0m\u001b[0;34m:\u001b[0m\u001b[0;34m\u001b[0m\u001b[0;34m\u001b[0m\u001b[0m\n\u001b[0;32m---> 87\u001b[0;31m         \u001b[0;32mreturn\u001b[0m \u001b[0mF\u001b[0m\u001b[0;34m.\u001b[0m\u001b[0mlinear\u001b[0m\u001b[0;34m(\u001b[0m\u001b[0minput\u001b[0m\u001b[0;34m,\u001b[0m \u001b[0mself\u001b[0m\u001b[0;34m.\u001b[0m\u001b[0mweight\u001b[0m\u001b[0;34m,\u001b[0m \u001b[0mself\u001b[0m\u001b[0;34m.\u001b[0m\u001b[0mbias\u001b[0m\u001b[0;34m)\u001b[0m\u001b[0;34m\u001b[0m\u001b[0;34m\u001b[0m\u001b[0m\n\u001b[0m\u001b[1;32m     88\u001b[0m \u001b[0;34m\u001b[0m\u001b[0m\n\u001b[1;32m     89\u001b[0m     \u001b[0;32mdef\u001b[0m \u001b[0mextra_repr\u001b[0m\u001b[0;34m(\u001b[0m\u001b[0mself\u001b[0m\u001b[0;34m)\u001b[0m\u001b[0;34m:\u001b[0m\u001b[0;34m\u001b[0m\u001b[0;34m\u001b[0m\u001b[0m\n",
      "\u001b[0;32m/opt/anaconda3/lib/python3.7/site-packages/torch/nn/functional.py\u001b[0m in \u001b[0;36mlinear\u001b[0;34m(input, weight, bias)\u001b[0m\n\u001b[1;32m   1368\u001b[0m     \u001b[0;32mif\u001b[0m \u001b[0minput\u001b[0m\u001b[0;34m.\u001b[0m\u001b[0mdim\u001b[0m\u001b[0;34m(\u001b[0m\u001b[0;34m)\u001b[0m \u001b[0;34m==\u001b[0m \u001b[0;36m2\u001b[0m \u001b[0;32mand\u001b[0m \u001b[0mbias\u001b[0m \u001b[0;32mis\u001b[0m \u001b[0;32mnot\u001b[0m \u001b[0;32mNone\u001b[0m\u001b[0;34m:\u001b[0m\u001b[0;34m\u001b[0m\u001b[0;34m\u001b[0m\u001b[0m\n\u001b[1;32m   1369\u001b[0m         \u001b[0;31m# fused op is marginally faster\u001b[0m\u001b[0;34m\u001b[0m\u001b[0;34m\u001b[0m\u001b[0;34m\u001b[0m\u001b[0m\n\u001b[0;32m-> 1370\u001b[0;31m         \u001b[0mret\u001b[0m \u001b[0;34m=\u001b[0m \u001b[0mtorch\u001b[0m\u001b[0;34m.\u001b[0m\u001b[0maddmm\u001b[0m\u001b[0;34m(\u001b[0m\u001b[0mbias\u001b[0m\u001b[0;34m,\u001b[0m \u001b[0minput\u001b[0m\u001b[0;34m,\u001b[0m \u001b[0mweight\u001b[0m\u001b[0;34m.\u001b[0m\u001b[0mt\u001b[0m\u001b[0;34m(\u001b[0m\u001b[0;34m)\u001b[0m\u001b[0;34m)\u001b[0m\u001b[0;34m\u001b[0m\u001b[0;34m\u001b[0m\u001b[0m\n\u001b[0m\u001b[1;32m   1371\u001b[0m     \u001b[0;32melse\u001b[0m\u001b[0;34m:\u001b[0m\u001b[0;34m\u001b[0m\u001b[0;34m\u001b[0m\u001b[0m\n\u001b[1;32m   1372\u001b[0m         \u001b[0moutput\u001b[0m \u001b[0;34m=\u001b[0m \u001b[0minput\u001b[0m\u001b[0;34m.\u001b[0m\u001b[0mmatmul\u001b[0m\u001b[0;34m(\u001b[0m\u001b[0mweight\u001b[0m\u001b[0;34m.\u001b[0m\u001b[0mt\u001b[0m\u001b[0;34m(\u001b[0m\u001b[0;34m)\u001b[0m\u001b[0;34m)\u001b[0m\u001b[0;34m\u001b[0m\u001b[0;34m\u001b[0m\u001b[0m\n",
      "\u001b[0;31mRuntimeError\u001b[0m: size mismatch, m1: [100 x 256], m2: [20 x 14] at /Users/distiller/project/conda/conda-bld/pytorch_1573049287641/work/aten/src/TH/generic/THTensorMath.cpp:197"
     ]
    }
   ],
   "source": [
    "model = Net(14)\n",
    "train_model(model,train_input,train_target)"
   ]
  },
  {
   "cell_type": "code",
   "execution_count": 60,
   "metadata": {},
   "outputs": [],
   "source": [
    "def count_parameters(model):\n",
    "    return sum(p.numel() for p in model.parameters() if p.requires_grad)"
   ]
  },
  {
   "cell_type": "code",
   "execution_count": 62,
   "metadata": {},
   "outputs": [
    {
     "data": {
      "text/plain": [
       "21747"
      ]
     },
     "execution_count": 62,
     "metadata": {},
     "output_type": "execute_result"
    }
   ],
   "source": [
    "model = Net(10)\n",
    "count_parameters(model)"
   ]
  },
  {
   "cell_type": "markdown",
   "metadata": {},
   "source": [
    "# Testing"
   ]
  },
  {
   "cell_type": "code",
   "execution_count": 53,
   "metadata": {},
   "outputs": [],
   "source": [
    "def compute_nb_errors(model,data_input,data_target):\n",
    "    nb_errors = 0\n",
    "    for input,targets in zip(data_input.split(batch_size),data_target.split(batch_size)):\n",
    "        output = model(input)\n",
    "        _,predicted_classes = torch.max(output,1)\n",
    "        for i in range(0,output.size(0)):\n",
    "            if(predicted_classes[i]!=targets[i]):\n",
    "                nb_errors = nb_errors+1\n",
    "                \n",
    "    return nb_errors"
   ]
  },
  {
   "cell_type": "code",
   "execution_count": 54,
   "metadata": {},
   "outputs": [
    {
     "name": "stdout",
     "output_type": "stream",
     "text": [
      "train_error 1.10% test_error 18.40%\n"
     ]
    }
   ],
   "source": [
    "print('train_error {:.02f}% test_error {:.02f}%'.format(\n",
    "    compute_nb_errors(model, train_input, train_target) / train_input.size(0) * 100,\n",
    "    compute_nb_errors(model, test_input, test_target) / test_input.size(0) * 100))\n"
   ]
  },
  {
   "cell_type": "code",
   "execution_count": null,
   "metadata": {},
   "outputs": [],
   "source": []
  }
 ],
 "metadata": {
  "kernelspec": {
   "display_name": "Python 3",
   "language": "python",
   "name": "python3"
  },
  "language_info": {
   "codemirror_mode": {
    "name": "ipython",
    "version": 3
   },
   "file_extension": ".py",
   "mimetype": "text/x-python",
   "name": "python",
   "nbconvert_exporter": "python",
   "pygments_lexer": "ipython3",
   "version": "3.7.4"
  }
 },
 "nbformat": 4,
 "nbformat_minor": 4
}
